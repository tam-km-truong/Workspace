{
 "cells": [
  {
   "cell_type": "code",
   "execution_count": 32,
   "id": "0b949aef-771c-4e01-84b5-491e8b86dfcc",
   "metadata": {},
   "outputs": [],
   "source": [
    "import pandas as pd\n",
    "import numpy as np\n",
    "import os"
   ]
  },
  {
   "cell_type": "code",
   "execution_count": 33,
   "id": "9ff2ab7a-31bb-4850-85db-7194f6fdcde9",
   "metadata": {},
   "outputs": [],
   "source": [
    "bakrep_metadata = pd.read_csv(\"/Users/ktruong/workspace/Workspace/jupyter_notebook/data/bakrep-export_18112024.tsv\",sep='\\t', low_memory=False, index_col=\"#id\")"
   ]
  },
  {
   "cell_type": "code",
   "execution_count": 34,
   "id": "dd2d504a-22ec-4a90-b5ad-a607f67cb852",
   "metadata": {},
   "outputs": [
    {
     "data": {
      "text/plain": [
       "[('bakta.genome.genus', dtype('O')),\n",
       " ('bakta.genome.species', dtype('O')),\n",
       " ('bakta.genome.strain', dtype('O')),\n",
       " ('bakta.stats.no_sequences', dtype('float64')),\n",
       " ('bakta.stats.size', dtype('float64')),\n",
       " ('bakta.stats.gc', dtype('float64')),\n",
       " ('bakta.stats.n_ratio', dtype('float64')),\n",
       " ('bakta.stats.n50', dtype('float64')),\n",
       " ('bakta.stats.coding_ratio', dtype('float64')),\n",
       " ('gtdbtk.classification.domain', dtype('O')),\n",
       " ('gtdbtk.classification.phylum', dtype('O')),\n",
       " ('gtdbtk.classification.class', dtype('O')),\n",
       " ('gtdbtk.classification.order', dtype('O')),\n",
       " ('gtdbtk.classification.family', dtype('O')),\n",
       " ('gtdbtk.classification.genus', dtype('O')),\n",
       " ('gtdbtk.classification.species', dtype('O')),\n",
       " ('mlst.sequence_type', dtype('O')),\n",
       " ('checkm2.quality.completeness', dtype('float64')),\n",
       " ('checkm2.quality.contamination', dtype('float64')),\n",
       " ('metadata.accession', dtype('O')),\n",
       " ('metadata.collected_by', dtype('O')),\n",
       " ('metadata.collection_date', dtype('O')),\n",
       " ('metadata.country', dtype('O')),\n",
       " ('metadata.host', dtype('O')),\n",
       " ('metadata.host_sex', dtype('O')),\n",
       " ('metadata.host_status', dtype('O')),\n",
       " ('metadata.host_tax_id', dtype('float64')),\n",
       " ('metadata.instrument_model', dtype('O')),\n",
       " ('metadata.instrument_platform', dtype('O')),\n",
       " ('metadata.isolate', dtype('O')),\n",
       " ('metadata.isolation_source', dtype('O')),\n",
       " ('metadata.location', dtype('O')),\n",
       " ('metadata.project_name', dtype('O')),\n",
       " ('metadata.sample_alias', dtype('O')),\n",
       " ('metadata.secondary_sample_accession', dtype('O')),\n",
       " ('metadata.secondary_study_accession', dtype('O')),\n",
       " ('metadata.serotype', dtype('O')),\n",
       " ('metadata.serovar', dtype('O')),\n",
       " ('metadata.strain', dtype('O')),\n",
       " ('metadata.study_accession', dtype('O')),\n",
       " ('metadata.submission_accession', dtype('O'))]"
      ]
     },
     "execution_count": 34,
     "metadata": {},
     "output_type": "execute_result"
    }
   ],
   "source": [
    "[tup for tup in zip(bakrep_metadata.columns, bakrep_metadata.dtypes)]"
   ]
  },
  {
   "cell_type": "code",
   "execution_count": 48,
   "id": "628650a8-5f12-4e90-acbd-872e17dcffb1",
   "metadata": {},
   "outputs": [],
   "source": [
    "species_groups =  bakrep_metadata.groupby(['gtdbtk.classification.species']).groups\n",
    "group_sizes = bakrep_metadata.groupby(['gtdbtk.classification.species']).size()\n",
    "group_sizes_with_na = bakrep_metadata.groupby(['gtdbtk.classification.species'], dropna=False).size()"
   ]
  },
  {
   "cell_type": "code",
   "execution_count": 36,
   "id": "cbc93114-966b-4807-b434-c0381e27d6e8",
   "metadata": {},
   "outputs": [
    {
     "data": {
      "text/plain": [
       "632264"
      ]
     },
     "execution_count": 36,
     "metadata": {},
     "output_type": "execute_result"
    }
   ],
   "source": [
    "highly_sampled_species = group_sizes[group_sizes>=100]\n",
    "highly_sampled_species.sum()"
   ]
  },
  {
   "cell_type": "code",
   "execution_count": 37,
   "id": "66c94393-59f6-4fc3-8c9a-4f0d77348084",
   "metadata": {},
   "outputs": [],
   "source": [
    "dustbins = group_sizes[group_sizes<100]"
   ]
  },
  {
   "cell_type": "code",
   "execution_count": 62,
   "id": "a7c141a3-5026-47ef-ba78-d3ca45fd5ad1",
   "metadata": {},
   "outputs": [
    {
     "data": {
      "text/plain": [
       "25485"
      ]
     },
     "execution_count": 62,
     "metadata": {},
     "output_type": "execute_result"
    }
   ],
   "source": [
    "dustbins.sum()"
   ]
  },
  {
   "cell_type": "code",
   "execution_count": 49,
   "id": "347067b2-4391-43e1-be3b-78bb7e70f2e9",
   "metadata": {},
   "outputs": [
    {
     "data": {
      "text/plain": [
       "661402"
      ]
     },
     "execution_count": 49,
     "metadata": {},
     "output_type": "execute_result"
    }
   ],
   "source": [
    "group_sizes_with_na.sum()"
   ]
  },
  {
   "cell_type": "code",
   "execution_count": 52,
   "id": "15f6594d-1649-46df-9d8a-71931d8a17db",
   "metadata": {},
   "outputs": [
    {
     "data": {
      "text/plain": [
       "3653"
      ]
     },
     "execution_count": 52,
     "metadata": {},
     "output_type": "execute_result"
    }
   ],
   "source": [
    "bakrep_metadata['gtdbtk.classification.species'].isna().sum()"
   ]
  },
  {
   "cell_type": "code",
   "execution_count": 53,
   "id": "79b87576-ce95-4c74-9d1b-f787d15eafc1",
   "metadata": {},
   "outputs": [
    {
     "data": {
      "text/plain": [
       "661402"
      ]
     },
     "execution_count": 53,
     "metadata": {},
     "output_type": "execute_result"
    }
   ],
   "source": [
    "632264 + 25485 + 3653"
   ]
  },
  {
   "cell_type": "code",
   "execution_count": 72,
   "id": "07b37bd9-5d8b-47c0-bd7e-95c26f829de9",
   "metadata": {},
   "outputs": [
    {
     "data": {
      "text/plain": [
       "array(['SAMD00000585', 'SAMD00000612', 'SAMD00000644', ...,\n",
       "       'SAMN10342921', 'SAMN10389991', 'SAMN10390024'], dtype=object)"
      ]
     },
     "execution_count": 72,
     "metadata": {},
     "output_type": "execute_result"
    }
   ],
   "source": [
    "genomes_without_species = bakrep_metadata[bakrep_metadata['gtdbtk.classification.species'].isna()]\n",
    "genomes_without_species.index.values"
   ]
  },
  {
   "cell_type": "code",
   "execution_count": 73,
   "id": "479d0c58-0ca0-46a8-af6c-c92c11534974",
   "metadata": {},
   "outputs": [],
   "source": [
    "dustbin_genomes = list(genomes_without_species.index.values)"
   ]
  },
  {
   "cell_type": "code",
   "execution_count": 74,
   "id": "4ccbf2c4-50a8-4d03-be00-f9de4927fad0",
   "metadata": {},
   "outputs": [],
   "source": [
    "for spc in dustbins.index.values:\n",
    "    dustbin_genomes = dustbin_genomes + list(species_groups[spc].values)"
   ]
  },
  {
   "cell_type": "code",
   "execution_count": 76,
   "id": "51d85e27-f06c-4ea9-a5b1-4e652e31ef7e",
   "metadata": {},
   "outputs": [
    {
     "data": {
      "text/plain": [
       "29138"
      ]
     },
     "execution_count": 76,
     "metadata": {},
     "output_type": "execute_result"
    }
   ],
   "source": [
    "len(dustbin_genomes)"
   ]
  },
  {
   "cell_type": "code",
   "execution_count": 80,
   "id": "4e39714a-8254-4c71-a595-0a572e558522",
   "metadata": {},
   "outputs": [],
   "source": [
    "with open('species_clusters/dustbins.txt', \"w\") as f:\n",
    "        for gen in dustbin_genomes:\n",
    "            f.write(f\"{gen}\\n\")"
   ]
  },
  {
   "cell_type": "code",
   "execution_count": 83,
   "id": "6c6bffdf-3205-41a3-8ad3-09b264ed41e9",
   "metadata": {},
   "outputs": [
    {
     "data": {
      "text/plain": [
       "gtdbtk.classification.species\n",
       "Lactococcus lactis             100\n",
       "Haemophilus influenzae_D       100\n",
       "Burkholderia cenocepacia_B     100\n",
       "Mesorhizobium sp003996995      100\n",
       "Enterobacter kobei             104\n",
       "                              ... \n",
       "Vibrio cholerae               5562\n",
       "Pseudomonas aeruginosa        6286\n",
       "Enterococcus_B faecium        8284\n",
       "Campylobacter_D coli          8849\n",
       "Neisseria gonorrhoeae         8904\n",
       "Length: 127, dtype: int64"
      ]
     },
     "execution_count": 83,
     "metadata": {},
     "output_type": "execute_result"
    }
   ],
   "source": [
    "highly_sampled_species[group_sizes<=10000].sort_values()"
   ]
  },
  {
   "cell_type": "code",
   "execution_count": 84,
   "id": "a753ff20-5ab6-46e2-becc-5c14bc08f591",
   "metadata": {},
   "outputs": [],
   "source": [
    "fewer_than_10k = highly_sampled_species[group_sizes<=10000]\n",
    "for spc in fewer_than_10k.index.values:\n",
    "    genomes = list(species_groups[spc].values)\n",
    "    with open(f\"species_clusters/fewer_than_10k/{spc.replace(\" \",\"_\")}.txt\",\"w\") as f:\n",
    "        for gen in genomes:\n",
    "            f.write(f\"{gen}\\n\")"
   ]
  },
  {
   "cell_type": "code",
   "execution_count": 85,
   "id": "3e15960d-139a-4ebd-ac52-acfcbfb2aa0f",
   "metadata": {},
   "outputs": [],
   "source": [
    "more_than_10k = highly_sampled_species[group_sizes>=10000]\n",
    "for spc in more_than_10k.index.values:\n",
    "    genomes = list(species_groups[spc].values)\n",
    "    with open(f\"species_clusters/more_than_10k/{spc.replace(\" \",\"_\")}.txt\",\"w\") as f:\n",
    "        for gen in genomes:\n",
    "            f.write(f\"{gen}\\n\")"
   ]
  },
  {
   "cell_type": "code",
   "execution_count": 87,
   "id": "39d18a66-29e6-4392-aab1-c7a7f8912b7e",
   "metadata": {},
   "outputs": [
    {
     "data": {
      "text/plain": [
       "661402"
      ]
     },
     "execution_count": 87,
     "metadata": {},
     "output_type": "execute_result"
    }
   ],
   "source": [
    "fewer_than_10k.sum() + more_than_10k.sum() + len(dustbin_genomes)"
   ]
  },
  {
   "cell_type": "code",
   "execution_count": 89,
   "id": "d977532a-8ced-4567-a4fa-283a9974d9c6",
   "metadata": {},
   "outputs": [
    {
     "data": {
      "text/plain": [
       "gtdbtk.classification.species\n",
       "Streptococcus agalactiae       10359\n",
       "Listeria monocytogenes_B       12244\n",
       "Listeria monocytogenes         12245\n",
       "Clostridioides difficile       13579\n",
       "Klebsiella pneumoniae          13637\n",
       "Streptococcus pyogenes         16821\n",
       "Neisseria meningitidis         17153\n",
       "Campylobacter_D jejuni         28336\n",
       "Staphylococcus aureus          47997\n",
       "Mycobacterium tuberculosis     49020\n",
       "Streptococcus pneumoniae       51433\n",
       "Escherichia coli               89136\n",
       "Salmonella enterica           178585\n",
       "dtype: int64"
      ]
     },
     "execution_count": 89,
     "metadata": {},
     "output_type": "execute_result"
    }
   ],
   "source": [
    "more_than_10k.sort_values()"
   ]
  },
  {
   "cell_type": "code",
   "execution_count": null,
   "id": "a68702bf-954c-44ff-aabc-416c0be12c6b",
   "metadata": {},
   "outputs": [],
   "source": []
  }
 ],
 "metadata": {
  "kernelspec": {
   "display_name": "Python 3 (ipykernel)",
   "language": "python",
   "name": "python3"
  },
  "language_info": {
   "codemirror_mode": {
    "name": "ipython",
    "version": 3
   },
   "file_extension": ".py",
   "mimetype": "text/x-python",
   "name": "python",
   "nbconvert_exporter": "python",
   "pygments_lexer": "ipython3",
   "version": "3.12.7"
  }
 },
 "nbformat": 4,
 "nbformat_minor": 5
}
