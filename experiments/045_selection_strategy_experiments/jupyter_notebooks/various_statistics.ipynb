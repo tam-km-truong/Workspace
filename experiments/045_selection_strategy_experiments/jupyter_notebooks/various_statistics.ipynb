{
 "cells": [
  {
   "cell_type": "code",
   "execution_count": 1,
   "id": "a4404bcc-3bd1-4313-a375-9e5436921d93",
   "metadata": {},
   "outputs": [],
   "source": [
    "import pandas as pd\n",
    "import numpy as np"
   ]
  },
  {
   "cell_type": "code",
   "execution_count": 2,
   "id": "3cdf6ca4-7226-443e-bc82-4c6d1006f323",
   "metadata": {},
   "outputs": [],
   "source": [
    "path_to_data = '/Users/ktruong/workspace/Workspace/experiments/045_selection_strategy_experiments/mash_distances/'\n",
    "dis_25 = pd.read_csv(path_to_data+'distance_25.csv', header=0,index_col=0,on_bad_lines='warn',low_memory=False)\n",
    "dis_50 = pd.read_csv(path_to_data+'distance_50.csv', header=0,index_col=0,on_bad_lines='warn',low_memory=False)\n",
    "dis_75 = pd.read_csv(path_to_data+'distance_75.csv', header=0,index_col=0,on_bad_lines='warn',low_memory=False)\n",
    "dis_100 = pd.read_csv(path_to_data+'distance_100.csv', header=0,index_col=0,on_bad_lines='warn',low_memory=False)"
   ]
  },
  {
   "cell_type": "code",
   "execution_count": 3,
   "id": "e08a85aa-5570-4ef9-9834-211103693c17",
   "metadata": {},
   "outputs": [],
   "source": [
    "idx_min_25 = dis_25.min(axis = 1)\n",
    "idx_min_50 = dis_50.min(axis = 1)\n",
    "idx_min_75 = dis_75.min(axis = 1)\n",
    "idx_min_100 = dis_100.min(axis = 1)"
   ]
  },
  {
   "cell_type": "code",
   "execution_count": 6,
   "id": "fa78206a-0d40-48ce-a9f7-c6ba5c8f5025",
   "metadata": {},
   "outputs": [
    {
     "data": {
      "text/plain": [
       "(0.048972832475078186,\n",
       " 0.03640348298394569,\n",
       " 0.026463560219938134,\n",
       " 0.0036082564843409526)"
      ]
     },
     "execution_count": 6,
     "metadata": {},
     "output_type": "execute_result"
    }
   ],
   "source": [
    "idx_min_25.mean(),idx_min_50.mean(),idx_min_75.mean(),idx_min_100.mean()"
   ]
  },
  {
   "cell_type": "code",
   "execution_count": null,
   "id": "b7f07cc9-3a50-446a-a8a1-29931a6daacf",
   "metadata": {},
   "outputs": [],
   "source": []
  }
 ],
 "metadata": {
  "kernelspec": {
   "display_name": "Python 3 (ipykernel)",
   "language": "python",
   "name": "python3"
  },
  "language_info": {
   "codemirror_mode": {
    "name": "ipython",
    "version": 3
   },
   "file_extension": ".py",
   "mimetype": "text/x-python",
   "name": "python",
   "nbconvert_exporter": "python",
   "pygments_lexer": "ipython3",
   "version": "3.12.7"
  }
 },
 "nbformat": 4,
 "nbformat_minor": 5
}
