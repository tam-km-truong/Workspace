{
 "cells": [
  {
   "cell_type": "code",
   "execution_count": 24,
   "id": "c02ab6aa-80d8-4ca4-bedd-c0ecd3353500",
   "metadata": {},
   "outputs": [],
   "source": [
    "import pandas as pd\n",
    "import numpy as np"
   ]
  },
  {
   "cell_type": "code",
   "execution_count": 25,
   "id": "8bbb56d7-0fb3-491d-9bd8-79edfc12fc9d",
   "metadata": {},
   "outputs": [],
   "source": [
    "old = pd.read_csv('original_sizes.csv',header=None)\n",
    "new = pd.read_csv('new_sizes.csv',header=None)"
   ]
  },
  {
   "cell_type": "code",
   "execution_count": 26,
   "id": "97a663fb-c12c-4f09-bcbd-2c9b8884a33a",
   "metadata": {},
   "outputs": [
    {
     "data": {
      "text/html": [
       "<div>\n",
       "<style scoped>\n",
       "    .dataframe tbody tr th:only-of-type {\n",
       "        vertical-align: middle;\n",
       "    }\n",
       "\n",
       "    .dataframe tbody tr th {\n",
       "        vertical-align: top;\n",
       "    }\n",
       "\n",
       "    .dataframe thead th {\n",
       "        text-align: right;\n",
       "    }\n",
       "</style>\n",
       "<table border=\"1\" class=\"dataframe\">\n",
       "  <thead>\n",
       "    <tr style=\"text-align: right;\">\n",
       "      <th></th>\n",
       "      <th>0</th>\n",
       "      <th>1</th>\n",
       "    </tr>\n",
       "  </thead>\n",
       "  <tbody>\n",
       "    <tr>\n",
       "      <th>0</th>\n",
       "      <td>60938532</td>\n",
       "      <td>/Users/ktruong/data/AllTheBacteria/osfstorage...</td>\n",
       "    </tr>\n",
       "    <tr>\n",
       "      <th>1</th>\n",
       "      <td>79967148</td>\n",
       "      <td>/Users/ktruong/data/AllTheBacteria/osfstorage...</td>\n",
       "    </tr>\n",
       "    <tr>\n",
       "      <th>2</th>\n",
       "      <td>82634120</td>\n",
       "      <td>/Users/ktruong/data/AllTheBacteria/osfstorage...</td>\n",
       "    </tr>\n",
       "    <tr>\n",
       "      <th>3</th>\n",
       "      <td>84641464</td>\n",
       "      <td>/Users/ktruong/data/AllTheBacteria/osfstorage...</td>\n",
       "    </tr>\n",
       "    <tr>\n",
       "      <th>4</th>\n",
       "      <td>75078960</td>\n",
       "      <td>/Users/ktruong/data/AllTheBacteria/osfstorage...</td>\n",
       "    </tr>\n",
       "    <tr>\n",
       "      <th>...</th>\n",
       "      <td>...</td>\n",
       "      <td>...</td>\n",
       "    </tr>\n",
       "    <tr>\n",
       "      <th>157</th>\n",
       "      <td>80889852</td>\n",
       "      <td>/Users/ktruong/data/AllTheBacteria/osfstorage...</td>\n",
       "    </tr>\n",
       "    <tr>\n",
       "      <th>158</th>\n",
       "      <td>1426888</td>\n",
       "      <td>/Users/ktruong/data/AllTheBacteria/osfstorage...</td>\n",
       "    </tr>\n",
       "    <tr>\n",
       "      <th>159</th>\n",
       "      <td>81938108</td>\n",
       "      <td>/Users/ktruong/data/AllTheBacteria/osfstorage...</td>\n",
       "    </tr>\n",
       "    <tr>\n",
       "      <th>160</th>\n",
       "      <td>99430616</td>\n",
       "      <td>/Users/ktruong/data/AllTheBacteria/osfstorage...</td>\n",
       "    </tr>\n",
       "    <tr>\n",
       "      <th>161</th>\n",
       "      <td>95568528</td>\n",
       "      <td>/Users/ktruong/data/AllTheBacteria/osfstorage...</td>\n",
       "    </tr>\n",
       "  </tbody>\n",
       "</table>\n",
       "<p>162 rows × 2 columns</p>\n",
       "</div>"
      ],
      "text/plain": [
       "            0                                                  1\n",
       "0    60938532   /Users/ktruong/data/AllTheBacteria/osfstorage...\n",
       "1    79967148   /Users/ktruong/data/AllTheBacteria/osfstorage...\n",
       "2    82634120   /Users/ktruong/data/AllTheBacteria/osfstorage...\n",
       "3    84641464   /Users/ktruong/data/AllTheBacteria/osfstorage...\n",
       "4    75078960   /Users/ktruong/data/AllTheBacteria/osfstorage...\n",
       "..        ...                                                ...\n",
       "157  80889852   /Users/ktruong/data/AllTheBacteria/osfstorage...\n",
       "158   1426888   /Users/ktruong/data/AllTheBacteria/osfstorage...\n",
       "159  81938108   /Users/ktruong/data/AllTheBacteria/osfstorage...\n",
       "160  99430616   /Users/ktruong/data/AllTheBacteria/osfstorage...\n",
       "161  95568528   /Users/ktruong/data/AllTheBacteria/osfstorage...\n",
       "\n",
       "[162 rows x 2 columns]"
      ]
     },
     "execution_count": 26,
     "metadata": {},
     "output_type": "execute_result"
    }
   ],
   "source": [
    "old"
   ]
  },
  {
   "cell_type": "code",
   "execution_count": 27,
   "id": "9f853613-97af-4b56-9ebf-63bbe9570bac",
   "metadata": {},
   "outputs": [
    {
     "data": {
      "text/html": [
       "<div>\n",
       "<style scoped>\n",
       "    .dataframe tbody tr th:only-of-type {\n",
       "        vertical-align: middle;\n",
       "    }\n",
       "\n",
       "    .dataframe tbody tr th {\n",
       "        vertical-align: top;\n",
       "    }\n",
       "\n",
       "    .dataframe thead th {\n",
       "        text-align: right;\n",
       "    }\n",
       "</style>\n",
       "<table border=\"1\" class=\"dataframe\">\n",
       "  <thead>\n",
       "    <tr style=\"text-align: right;\">\n",
       "      <th></th>\n",
       "      <th>0</th>\n",
       "      <th>1</th>\n",
       "    </tr>\n",
       "  </thead>\n",
       "  <tbody>\n",
       "    <tr>\n",
       "      <th>0</th>\n",
       "      <td>69141764</td>\n",
       "      <td>salmonella_enterica_000.tar.xz</td>\n",
       "    </tr>\n",
       "    <tr>\n",
       "      <th>1</th>\n",
       "      <td>46200212</td>\n",
       "      <td>salmonella_enterica_001.tar.xz</td>\n",
       "    </tr>\n",
       "    <tr>\n",
       "      <th>2</th>\n",
       "      <td>44476252</td>\n",
       "      <td>salmonella_enterica_002.tar.xz</td>\n",
       "    </tr>\n",
       "    <tr>\n",
       "      <th>3</th>\n",
       "      <td>35369128</td>\n",
       "      <td>salmonella_enterica_003.tar.xz</td>\n",
       "    </tr>\n",
       "    <tr>\n",
       "      <th>4</th>\n",
       "      <td>51809240</td>\n",
       "      <td>salmonella_enterica_004.tar.xz</td>\n",
       "    </tr>\n",
       "    <tr>\n",
       "      <th>...</th>\n",
       "      <td>...</td>\n",
       "      <td>...</td>\n",
       "    </tr>\n",
       "    <tr>\n",
       "      <th>157</th>\n",
       "      <td>28483836</td>\n",
       "      <td>salmonella_enterica_157.tar.xz</td>\n",
       "    </tr>\n",
       "    <tr>\n",
       "      <th>158</th>\n",
       "      <td>24898812</td>\n",
       "      <td>salmonella_enterica_158.tar.xz</td>\n",
       "    </tr>\n",
       "    <tr>\n",
       "      <th>159</th>\n",
       "      <td>32741816</td>\n",
       "      <td>salmonella_enterica_159.tar.xz</td>\n",
       "    </tr>\n",
       "    <tr>\n",
       "      <th>160</th>\n",
       "      <td>33591052</td>\n",
       "      <td>salmonella_enterica_160.tar.xz</td>\n",
       "    </tr>\n",
       "    <tr>\n",
       "      <th>161</th>\n",
       "      <td>8521360</td>\n",
       "      <td>salmonella_enterica_161.tar.xz</td>\n",
       "    </tr>\n",
       "  </tbody>\n",
       "</table>\n",
       "<p>162 rows × 2 columns</p>\n",
       "</div>"
      ],
      "text/plain": [
       "            0                                1\n",
       "0    69141764   salmonella_enterica_000.tar.xz\n",
       "1    46200212   salmonella_enterica_001.tar.xz\n",
       "2    44476252   salmonella_enterica_002.tar.xz\n",
       "3    35369128   salmonella_enterica_003.tar.xz\n",
       "4    51809240   salmonella_enterica_004.tar.xz\n",
       "..        ...                              ...\n",
       "157  28483836   salmonella_enterica_157.tar.xz\n",
       "158  24898812   salmonella_enterica_158.tar.xz\n",
       "159  32741816   salmonella_enterica_159.tar.xz\n",
       "160  33591052   salmonella_enterica_160.tar.xz\n",
       "161   8521360   salmonella_enterica_161.tar.xz\n",
       "\n",
       "[162 rows x 2 columns]"
      ]
     },
     "execution_count": 27,
     "metadata": {},
     "output_type": "execute_result"
    }
   ],
   "source": [
    "new"
   ]
  },
  {
   "cell_type": "code",
   "execution_count": 33,
   "id": "66cda575-3273-4403-8271-44fb2e6b0c62",
   "metadata": {},
   "outputs": [],
   "source": [
    "tsize_old = old[0].sum()"
   ]
  },
  {
   "cell_type": "code",
   "execution_count": 34,
   "id": "cae950e8-fe84-471a-8181-c660f498b309",
   "metadata": {},
   "outputs": [],
   "source": [
    "tsize_new= new[0].sum()"
   ]
  },
  {
   "cell_type": "code",
   "execution_count": 39,
   "id": "653bfdea-bc27-4489-bbc2-134e64d3d3db",
   "metadata": {},
   "outputs": [
    {
     "data": {
      "text/plain": [
       "(12.470418172, 6.808108948)"
      ]
     },
     "execution_count": 39,
     "metadata": {},
     "output_type": "execute_result"
    }
   ],
   "source": [
    "tsize_old/1000000000,tsize_new/1000000000"
   ]
  },
  {
   "cell_type": "code",
   "execution_count": 40,
   "id": "08b0ee21-55b8-4ecb-86a3-3f126789501d",
   "metadata": {},
   "outputs": [
    {
     "data": {
      "text/plain": [
       "1.8317007361733542"
      ]
     },
     "execution_count": 40,
     "metadata": {},
     "output_type": "execute_result"
    }
   ],
   "source": [
    "tsize_old/tsize_new"
   ]
  },
  {
   "cell_type": "code",
   "execution_count": null,
   "id": "46c2bb28-4806-4daa-a74b-561b84dd74df",
   "metadata": {},
   "outputs": [],
   "source": []
  }
 ],
 "metadata": {
  "kernelspec": {
   "display_name": "Python 3 (ipykernel)",
   "language": "python",
   "name": "python3"
  },
  "language_info": {
   "codemirror_mode": {
    "name": "ipython",
    "version": 3
   },
   "file_extension": ".py",
   "mimetype": "text/x-python",
   "name": "python",
   "nbconvert_exporter": "python",
   "pygments_lexer": "ipython3",
   "version": "3.12.7"
  }
 },
 "nbformat": 4,
 "nbformat_minor": 5
}
