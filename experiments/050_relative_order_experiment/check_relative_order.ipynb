{
 "cells": [
  {
   "cell_type": "code",
   "execution_count": 1,
   "id": "582c10fa-eb77-4286-8d91-66c8a45d6e78",
   "metadata": {},
   "outputs": [],
   "source": [
    "import pandas as pd\n",
    "import numpy as np"
   ]
  },
  {
   "cell_type": "code",
   "execution_count": 2,
   "id": "08b5d266-8533-4b07-8dd6-5f3f5ab6b7c5",
   "metadata": {},
   "outputs": [],
   "source": [
    "col_1 = np.loadtxt('leaf_orders/tree_1.txt', delimiter=\",\",dtype='str')\n",
    "col_2 = np.loadtxt('leaf_orders/tree_2.txt', delimiter=\",\",dtype='str')\n",
    "col_3 = np.loadtxt('leaf_orders/tree_3.txt', delimiter=\",\",dtype='str')"
   ]
  },
  {
   "cell_type": "code",
   "execution_count": 7,
   "id": "25154992-0f87-4205-80b8-d5ee1a8b9025",
   "metadata": {},
   "outputs": [],
   "source": [
    "common_123 = set(col_1).intersection(set(col_2)).intersection(set(col_3))\n",
    "common_12 = set(col_1).intersection(set(col_2))\n",
    "common_13 = set(col_1).intersection(set(col_3))\n",
    "common_23 = set(col_2).intersection(set(col_3))"
   ]
  },
  {
   "cell_type": "code",
   "execution_count": 6,
   "id": "d28baf54-d487-45b3-bad7-f62fd8bad548",
   "metadata": {},
   "outputs": [
    {
     "data": {
      "text/plain": [
       "{'SAMD00029049',\n",
       " 'SAMEA4900139',\n",
       " 'SAMN00780057',\n",
       " 'SAMN02194890',\n",
       " 'SAMN02927936',\n",
       " 'SAMN03286960',\n",
       " 'SAMN05421759',\n",
       " 'SAMN05443545',\n",
       " 'SAMN07327751',\n",
       " 'SAMN09932413'}"
      ]
     },
     "execution_count": 6,
     "metadata": {},
     "output_type": "execute_result"
    }
   ],
   "source": [
    "common_123"
   ]
  },
  {
   "cell_type": "code",
   "execution_count": 16,
   "id": "dba003ac-2c70-4fad-854b-072fcaf580d9",
   "metadata": {},
   "outputs": [
    {
     "name": "stdout",
     "output_type": "stream",
     "text": [
      "3 SAMN05421759\n",
      "15 SAMN02927936\n",
      "17 SAMN05443545\n",
      "22 SAMEA4900139\n",
      "28 SAMN07327751\n",
      "36 SAMN09932413\n",
      "51 SAMN03286960\n",
      "56 SAMN00780057\n",
      "57 SAMN02194890\n",
      "58 SAMD00029049\n"
     ]
    }
   ],
   "source": [
    "for i,v in enumerate(col_1):\n",
    "    if v in common_123:\n",
    "        print(i,v)"
   ]
  },
  {
   "cell_type": "code",
   "execution_count": 17,
   "id": "5b7e9e34-8e6e-4cf6-837d-8a3d17f40b13",
   "metadata": {},
   "outputs": [
    {
     "name": "stdout",
     "output_type": "stream",
     "text": [
      "4 SAMN03286960\n",
      "22 SAMN05421759\n",
      "35 SAMN09932413\n",
      "56 SAMN02927936\n",
      "62 SAMEA4900139\n",
      "66 SAMN05443545\n",
      "71 SAMN00780057\n",
      "77 SAMN02194890\n",
      "79 SAMD00029049\n",
      "86 SAMN07327751\n"
     ]
    }
   ],
   "source": [
    "for i,v in enumerate(col_2):\n",
    "    if v in common_123:\n",
    "        print(i,v)"
   ]
  },
  {
   "cell_type": "code",
   "execution_count": 19,
   "id": "44c91a20-bdf6-4cd8-8a09-f39a484d3b58",
   "metadata": {},
   "outputs": [
    {
     "name": "stdout",
     "output_type": "stream",
     "text": [
      "8 SAMN00780057\n",
      "12 SAMN02194890\n",
      "13 SAMD00029049\n",
      "19 SAMN03286960\n",
      "22 SAMN02927936\n",
      "28 SAMN05443545\n",
      "31 SAMEA4900139\n",
      "33 SAMN07327751\n",
      "40 SAMN05421759\n",
      "46 SAMN09932413\n"
     ]
    }
   ],
   "source": [
    "for i,v in enumerate(col_3):\n",
    "    if v in common_123:\n",
    "        print(i,v)"
   ]
  },
  {
   "cell_type": "code",
   "execution_count": null,
   "id": "5563074a-3909-469c-a941-77950234684a",
   "metadata": {},
   "outputs": [],
   "source": []
  }
 ],
 "metadata": {
  "kernelspec": {
   "display_name": "Python 3 (ipykernel)",
   "language": "python",
   "name": "python3"
  },
  "language_info": {
   "codemirror_mode": {
    "name": "ipython",
    "version": 3
   },
   "file_extension": ".py",
   "mimetype": "text/x-python",
   "name": "python",
   "nbconvert_exporter": "python",
   "pygments_lexer": "ipython3",
   "version": "3.12.7"
  }
 },
 "nbformat": 4,
 "nbformat_minor": 5
}
