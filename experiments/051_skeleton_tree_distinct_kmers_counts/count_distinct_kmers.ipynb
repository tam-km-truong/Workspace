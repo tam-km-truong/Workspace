{
 "cells": [
  {
   "cell_type": "code",
   "execution_count": 1,
   "id": "2d877688-91df-48fd-ac9d-977d83c89b8d",
   "metadata": {},
   "outputs": [],
   "source": [
    "import subprocess"
   ]
  },
  {
   "cell_type": "code",
   "execution_count": 2,
   "id": "3cade4f0-9d90-4431-b4b9-10bcd02c3f29",
   "metadata": {},
   "outputs": [],
   "source": [
    "def get_cardinality(sketch):\n",
    "    result = subprocess.run([\"dashing\", \"card\", \"--presketched\", sketch], \n",
    "                            capture_output=True, text=True, check=True)\n",
    "    result = result.stdout.strip().split('\\t')[-1]\n",
    "    return float(result)"
   ]
  },
  {
   "cell_type": "code",
   "execution_count": 3,
   "id": "3ee87a73-b223-4fcb-bfc1-261025db78ad",
   "metadata": {},
   "outputs": [],
   "source": [
    "def union_sketch(sketch_1, sketch_2, union_sketch):\n",
    "    subprocess.run([\"dashing\", \"union\", \"-o\", union_sketch, sketch_1, sketch_2],\n",
    "                   check=True, stdout=subprocess.DEVNULL)"
   ]
  },
  {
   "cell_type": "code",
   "execution_count": 4,
   "id": "6b191035-0646-49eb-9844-c53e09dae3e2",
   "metadata": {},
   "outputs": [
    {
     "data": {
      "text/plain": [
       "6533857.5"
      ]
     },
     "execution_count": 4,
     "metadata": {},
     "output_type": "execute_result"
    }
   ],
   "source": [
    "get_cardinality('/Users/ktruong/data/661k/hll_sketches_661k/SAMEA3900094.fa.gz.w.31.spacing.10.hll')"
   ]
  },
  {
   "cell_type": "code",
   "execution_count": 16,
   "id": "9bd57d60-0593-4326-bb76-7370e055cf68",
   "metadata": {},
   "outputs": [
    {
     "name": "stderr",
     "output_type": "stream",
     "text": [
      "Dashing version: v1.0.2-4-g04ed\n"
     ]
    }
   ],
   "source": [
    "union_sketch('/Users/ktruong/data/661k/hll_sketches_661k/SAMEA3900094.fa.gz.w.31.spacing.10.hll',\n",
    "             '/Users/ktruong/data/661k/hll_sketches_661k/SAMN09062821.fa.gz.w.31.spacing.10.hll',\n",
    "            'tmp/union.hll')"
   ]
  },
  {
   "cell_type": "code",
   "execution_count": 17,
   "id": "42145ef9-d3f9-49dc-8474-1ffb01dc74bf",
   "metadata": {},
   "outputs": [
    {
     "data": {
      "text/plain": [
       "12582493.0"
      ]
     },
     "execution_count": 17,
     "metadata": {},
     "output_type": "execute_result"
    }
   ],
   "source": [
    "get_cardinality('tmp/union.hll')"
   ]
  },
  {
   "cell_type": "code",
   "execution_count": 26,
   "id": "cb37a392-4ce2-463e-98b3-cd0ed4817856",
   "metadata": {
    "scrolled": true
   },
   "outputs": [
    {
     "name": "stderr",
     "output_type": "stream",
     "text": [
      "Dashing version: v1.0.2-4-g04ed\n",
      "Dashing version: v1.0.2-4-g04ed\n",
      "Dashing version: v1.0.2-4-g04ed\n",
      "Dashing version: v1.0.2-4-g04ed\n",
      "Dashing version: v1.0.2-4-g04ed\n",
      "Dashing version: v1.0.2-4-g04ed\n",
      "Dashing version: v1.0.2-4-g04ed\n",
      "Dashing version: v1.0.2-4-g04ed\n",
      "Dashing version: v1.0.2-4-g04ed\n",
      "Dashing version: v1.0.2-4-g04ed\n",
      "Dashing version: v1.0.2-4-g04ed\n",
      "Dashing version: v1.0.2-4-g04ed\n",
      "Dashing version: v1.0.2-4-g04ed\n",
      "Dashing version: v1.0.2-4-g04ed\n",
      "Dashing version: v1.0.2-4-g04ed\n",
      "Dashing version: v1.0.2-4-g04ed\n",
      "Dashing version: v1.0.2-4-g04ed\n",
      "Dashing version: v1.0.2-4-g04ed\n",
      "Dashing version: v1.0.2-4-g04ed\n",
      "Dashing version: v1.0.2-4-g04ed\n",
      "Dashing version: v1.0.2-4-g04ed\n",
      "Dashing version: v1.0.2-4-g04ed\n",
      "Dashing version: v1.0.2-4-g04ed\n",
      "Dashing version: v1.0.2-4-g04ed\n",
      "Dashing version: v1.0.2-4-g04ed\n",
      "Dashing version: v1.0.2-4-g04ed\n",
      "Dashing version: v1.0.2-4-g04ed\n",
      "Dashing version: v1.0.2-4-g04ed\n",
      "Dashing version: v1.0.2-4-g04ed\n",
      "Dashing version: v1.0.2-4-g04ed\n",
      "Dashing version: v1.0.2-4-g04ed\n",
      "Dashing version: v1.0.2-4-g04ed\n",
      "Dashing version: v1.0.2-4-g04ed\n",
      "Dashing version: v1.0.2-4-g04ed\n",
      "Dashing version: v1.0.2-4-g04ed\n",
      "Dashing version: v1.0.2-4-g04ed\n",
      "Dashing version: v1.0.2-4-g04ed\n",
      "Dashing version: v1.0.2-4-g04ed\n",
      "Dashing version: v1.0.2-4-g04ed\n",
      "Dashing version: v1.0.2-4-g04ed\n",
      "Dashing version: v1.0.2-4-g04ed\n",
      "Dashing version: v1.0.2-4-g04ed\n",
      "Dashing version: v1.0.2-4-g04ed\n",
      "Dashing version: v1.0.2-4-g04ed\n",
      "Dashing version: v1.0.2-4-g04ed\n",
      "Dashing version: v1.0.2-4-g04ed\n",
      "Dashing version: v1.0.2-4-g04ed\n",
      "Dashing version: v1.0.2-4-g04ed\n",
      "Dashing version: v1.0.2-4-g04ed\n",
      "Dashing version: v1.0.2-4-g04ed\n",
      "Dashing version: v1.0.2-4-g04ed\n",
      "Dashing version: v1.0.2-4-g04ed\n",
      "Dashing version: v1.0.2-4-g04ed\n",
      "Dashing version: v1.0.2-4-g04ed\n",
      "Dashing version: v1.0.2-4-g04ed\n",
      "Dashing version: v1.0.2-4-g04ed\n",
      "Dashing version: v1.0.2-4-g04ed\n",
      "Dashing version: v1.0.2-4-g04ed\n",
      "Dashing version: v1.0.2-4-g04ed\n",
      "Dashing version: v1.0.2-4-g04ed\n",
      "Dashing version: v1.0.2-4-g04ed\n",
      "Dashing version: v1.0.2-4-g04ed\n",
      "Dashing version: v1.0.2-4-g04ed\n",
      "Dashing version: v1.0.2-4-g04ed\n",
      "Dashing version: v1.0.2-4-g04ed\n",
      "Dashing version: v1.0.2-4-g04ed\n",
      "Dashing version: v1.0.2-4-g04ed\n",
      "Dashing version: v1.0.2-4-g04ed\n"
     ]
    },
    {
     "ename": "KeyboardInterrupt",
     "evalue": "",
     "output_type": "error",
     "traceback": [
      "\u001b[0;31m---------------------------------------------------------------------------\u001b[0m",
      "\u001b[0;31mKeyboardInterrupt\u001b[0m                         Traceback (most recent call last)",
      "Cell \u001b[0;32mIn[26], line 8\u001b[0m\n\u001b[1;32m      6\u001b[0m out\u001b[38;5;241m.\u001b[39mwrite(\u001b[38;5;124mf\u001b[39m\u001b[38;5;124m\"\u001b[39m\u001b[38;5;132;01m{\u001b[39;00mcount\u001b[38;5;132;01m}\u001b[39;00m\u001b[38;5;130;01m\\n\u001b[39;00m\u001b[38;5;124m\"\u001b[39m)\n\u001b[1;32m      7\u001b[0m \u001b[38;5;28;01mfor\u001b[39;00m line \u001b[38;5;129;01min\u001b[39;00m f:\n\u001b[0;32m----> 8\u001b[0m     union_sketch(\u001b[38;5;124m'\u001b[39m\u001b[38;5;124mtmp/current.hll\u001b[39m\u001b[38;5;124m'\u001b[39m, line\u001b[38;5;241m.\u001b[39mrstrip(), \u001b[38;5;124m'\u001b[39m\u001b[38;5;124mtmp/union.hll\u001b[39m\u001b[38;5;124m'\u001b[39m)\n\u001b[1;32m      9\u001b[0m     count \u001b[38;5;241m=\u001b[39m get_cardinality(\u001b[38;5;124m'\u001b[39m\u001b[38;5;124mtmp/union.hll\u001b[39m\u001b[38;5;124m'\u001b[39m)\n\u001b[1;32m     10\u001b[0m     out\u001b[38;5;241m.\u001b[39mwrite(\u001b[38;5;124mf\u001b[39m\u001b[38;5;124m\"\u001b[39m\u001b[38;5;132;01m{\u001b[39;00mcount\u001b[38;5;132;01m}\u001b[39;00m\u001b[38;5;130;01m\\n\u001b[39;00m\u001b[38;5;124m\"\u001b[39m)\n",
      "Cell \u001b[0;32mIn[3], line 2\u001b[0m, in \u001b[0;36munion_sketch\u001b[0;34m(bin_sketch, genome_sketch, output_sketch)\u001b[0m\n\u001b[1;32m      1\u001b[0m \u001b[38;5;28;01mdef\u001b[39;00m \u001b[38;5;21munion_sketch\u001b[39m(bin_sketch, genome_sketch, output_sketch):\n\u001b[0;32m----> 2\u001b[0m     subprocess\u001b[38;5;241m.\u001b[39mrun([\u001b[38;5;124m\"\u001b[39m\u001b[38;5;124mdashing\u001b[39m\u001b[38;5;124m\"\u001b[39m, \u001b[38;5;124m\"\u001b[39m\u001b[38;5;124munion\u001b[39m\u001b[38;5;124m\"\u001b[39m, \u001b[38;5;124m\"\u001b[39m\u001b[38;5;124m-o\u001b[39m\u001b[38;5;124m\"\u001b[39m, output_sketch, bin_sketch, genome_sketch],\n\u001b[1;32m      3\u001b[0m                    check\u001b[38;5;241m=\u001b[39m\u001b[38;5;28;01mTrue\u001b[39;00m, stdout\u001b[38;5;241m=\u001b[39msubprocess\u001b[38;5;241m.\u001b[39mDEVNULL)\n",
      "File \u001b[0;32m~/anaconda3/lib/python3.12/subprocess.py:550\u001b[0m, in \u001b[0;36mrun\u001b[0;34m(input, capture_output, timeout, check, *popenargs, **kwargs)\u001b[0m\n\u001b[1;32m    548\u001b[0m \u001b[38;5;28;01mwith\u001b[39;00m Popen(\u001b[38;5;241m*\u001b[39mpopenargs, \u001b[38;5;241m*\u001b[39m\u001b[38;5;241m*\u001b[39mkwargs) \u001b[38;5;28;01mas\u001b[39;00m process:\n\u001b[1;32m    549\u001b[0m     \u001b[38;5;28;01mtry\u001b[39;00m:\n\u001b[0;32m--> 550\u001b[0m         stdout, stderr \u001b[38;5;241m=\u001b[39m process\u001b[38;5;241m.\u001b[39mcommunicate(\u001b[38;5;28minput\u001b[39m, timeout\u001b[38;5;241m=\u001b[39mtimeout)\n\u001b[1;32m    551\u001b[0m     \u001b[38;5;28;01mexcept\u001b[39;00m TimeoutExpired \u001b[38;5;28;01mas\u001b[39;00m exc:\n\u001b[1;32m    552\u001b[0m         process\u001b[38;5;241m.\u001b[39mkill()\n",
      "File \u001b[0;32m~/anaconda3/lib/python3.12/subprocess.py:1201\u001b[0m, in \u001b[0;36mPopen.communicate\u001b[0;34m(self, input, timeout)\u001b[0m\n\u001b[1;32m   1199\u001b[0m         stderr \u001b[38;5;241m=\u001b[39m \u001b[38;5;28mself\u001b[39m\u001b[38;5;241m.\u001b[39mstderr\u001b[38;5;241m.\u001b[39mread()\n\u001b[1;32m   1200\u001b[0m         \u001b[38;5;28mself\u001b[39m\u001b[38;5;241m.\u001b[39mstderr\u001b[38;5;241m.\u001b[39mclose()\n\u001b[0;32m-> 1201\u001b[0m     \u001b[38;5;28mself\u001b[39m\u001b[38;5;241m.\u001b[39mwait()\n\u001b[1;32m   1202\u001b[0m \u001b[38;5;28;01melse\u001b[39;00m:\n\u001b[1;32m   1203\u001b[0m     \u001b[38;5;28;01mif\u001b[39;00m timeout \u001b[38;5;129;01mis\u001b[39;00m \u001b[38;5;129;01mnot\u001b[39;00m \u001b[38;5;28;01mNone\u001b[39;00m:\n",
      "File \u001b[0;32m~/anaconda3/lib/python3.12/subprocess.py:1264\u001b[0m, in \u001b[0;36mPopen.wait\u001b[0;34m(self, timeout)\u001b[0m\n\u001b[1;32m   1262\u001b[0m     endtime \u001b[38;5;241m=\u001b[39m _time() \u001b[38;5;241m+\u001b[39m timeout\n\u001b[1;32m   1263\u001b[0m \u001b[38;5;28;01mtry\u001b[39;00m:\n\u001b[0;32m-> 1264\u001b[0m     \u001b[38;5;28;01mreturn\u001b[39;00m \u001b[38;5;28mself\u001b[39m\u001b[38;5;241m.\u001b[39m_wait(timeout\u001b[38;5;241m=\u001b[39mtimeout)\n\u001b[1;32m   1265\u001b[0m \u001b[38;5;28;01mexcept\u001b[39;00m \u001b[38;5;167;01mKeyboardInterrupt\u001b[39;00m:\n\u001b[1;32m   1266\u001b[0m     \u001b[38;5;66;03m# https://bugs.python.org/issue25942\u001b[39;00m\n\u001b[1;32m   1267\u001b[0m     \u001b[38;5;66;03m# The first keyboard interrupt waits briefly for the child to\u001b[39;00m\n\u001b[1;32m   1268\u001b[0m     \u001b[38;5;66;03m# exit under the common assumption that it also received the ^C\u001b[39;00m\n\u001b[1;32m   1269\u001b[0m     \u001b[38;5;66;03m# generated SIGINT and will exit rapidly.\u001b[39;00m\n\u001b[1;32m   1270\u001b[0m     \u001b[38;5;28;01mif\u001b[39;00m timeout \u001b[38;5;129;01mis\u001b[39;00m \u001b[38;5;129;01mnot\u001b[39;00m \u001b[38;5;28;01mNone\u001b[39;00m:\n",
      "File \u001b[0;32m~/anaconda3/lib/python3.12/subprocess.py:2053\u001b[0m, in \u001b[0;36mPopen._wait\u001b[0;34m(self, timeout)\u001b[0m\n\u001b[1;32m   2051\u001b[0m \u001b[38;5;28;01mif\u001b[39;00m \u001b[38;5;28mself\u001b[39m\u001b[38;5;241m.\u001b[39mreturncode \u001b[38;5;129;01mis\u001b[39;00m \u001b[38;5;129;01mnot\u001b[39;00m \u001b[38;5;28;01mNone\u001b[39;00m:\n\u001b[1;32m   2052\u001b[0m     \u001b[38;5;28;01mbreak\u001b[39;00m  \u001b[38;5;66;03m# Another thread waited.\u001b[39;00m\n\u001b[0;32m-> 2053\u001b[0m (pid, sts) \u001b[38;5;241m=\u001b[39m \u001b[38;5;28mself\u001b[39m\u001b[38;5;241m.\u001b[39m_try_wait(\u001b[38;5;241m0\u001b[39m)\n\u001b[1;32m   2054\u001b[0m \u001b[38;5;66;03m# Check the pid and loop as waitpid has been known to\u001b[39;00m\n\u001b[1;32m   2055\u001b[0m \u001b[38;5;66;03m# return 0 even without WNOHANG in odd situations.\u001b[39;00m\n\u001b[1;32m   2056\u001b[0m \u001b[38;5;66;03m# http://bugs.python.org/issue14396.\u001b[39;00m\n\u001b[1;32m   2057\u001b[0m \u001b[38;5;28;01mif\u001b[39;00m pid \u001b[38;5;241m==\u001b[39m \u001b[38;5;28mself\u001b[39m\u001b[38;5;241m.\u001b[39mpid:\n",
      "File \u001b[0;32m~/anaconda3/lib/python3.12/subprocess.py:2011\u001b[0m, in \u001b[0;36mPopen._try_wait\u001b[0;34m(self, wait_flags)\u001b[0m\n\u001b[1;32m   2009\u001b[0m \u001b[38;5;250m\u001b[39m\u001b[38;5;124;03m\"\"\"All callers to this function MUST hold self._waitpid_lock.\"\"\"\u001b[39;00m\n\u001b[1;32m   2010\u001b[0m \u001b[38;5;28;01mtry\u001b[39;00m:\n\u001b[0;32m-> 2011\u001b[0m     (pid, sts) \u001b[38;5;241m=\u001b[39m os\u001b[38;5;241m.\u001b[39mwaitpid(\u001b[38;5;28mself\u001b[39m\u001b[38;5;241m.\u001b[39mpid, wait_flags)\n\u001b[1;32m   2012\u001b[0m \u001b[38;5;28;01mexcept\u001b[39;00m \u001b[38;5;167;01mChildProcessError\u001b[39;00m:\n\u001b[1;32m   2013\u001b[0m     \u001b[38;5;66;03m# This happens if SIGCLD is set to be ignored or waiting\u001b[39;00m\n\u001b[1;32m   2014\u001b[0m     \u001b[38;5;66;03m# for child processes has otherwise been disabled for our\u001b[39;00m\n\u001b[1;32m   2015\u001b[0m     \u001b[38;5;66;03m# process.  This child is dead, we can't get the status.\u001b[39;00m\n\u001b[1;32m   2016\u001b[0m     pid \u001b[38;5;241m=\u001b[39m \u001b[38;5;28mself\u001b[39m\u001b[38;5;241m.\u001b[39mpid\n",
      "\u001b[0;31mKeyboardInterrupt\u001b[0m: "
     ]
    }
   ],
   "source": [
    "with open('input_test.txt') as f, open('cumul_distinct_kmers_count.txt', 'w') as out:\n",
    "    first = f.readline().rstrip()\n",
    "    subprocess.run([\"cp\", first, 'tmp/current.hll'], check=True)\n",
    "    subprocess.run([\"cp\", first, 'tmp/union.hll'], check=True)\n",
    "    count = get_cardinality('tmp/union.hll')\n",
    "    out.write(f\"{count}\\n\")\n",
    "    for line in f:\n",
    "        union_sketch('tmp/current.hll', line.rstrip(), 'tmp/union.hll')\n",
    "        count = get_cardinality('tmp/union.hll')\n",
    "        out.write(f\"{count}\\n\")\n",
    "        subprocess.run([\"mv\", 'tmp/union.hll', 'tmp/current.hll'], check=True)"
   ]
  },
  {
   "cell_type": "code",
   "execution_count": null,
   "id": "5de90b85-d77f-4bba-8fbd-d34f32756318",
   "metadata": {},
   "outputs": [],
   "source": []
  }
 ],
 "metadata": {
  "kernelspec": {
   "display_name": "Python 3 (ipykernel)",
   "language": "python",
   "name": "python3"
  },
  "language_info": {
   "codemirror_mode": {
    "name": "ipython",
    "version": 3
   },
   "file_extension": ".py",
   "mimetype": "text/x-python",
   "name": "python",
   "nbconvert_exporter": "python",
   "pygments_lexer": "ipython3",
   "version": "3.12.7"
  }
 },
 "nbformat": 4,
 "nbformat_minor": 5
}
