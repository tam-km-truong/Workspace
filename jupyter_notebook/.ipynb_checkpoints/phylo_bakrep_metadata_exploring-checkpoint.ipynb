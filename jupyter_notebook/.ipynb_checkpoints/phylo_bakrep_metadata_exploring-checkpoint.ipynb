{
 "cells": [
  {
   "cell_type": "code",
   "execution_count": 26,
   "id": "b79b7c12-b4e0-453f-996a-be3674ded5d0",
   "metadata": {},
   "outputs": [],
   "source": [
    "import pandas as pd\n",
    "import numpy as np"
   ]
  },
  {
   "cell_type": "code",
   "execution_count": 19,
   "id": "452e06a3-ecb6-454c-ad15-1bb7c0f0e744",
   "metadata": {},
   "outputs": [],
   "source": [
    "bakrep_metadata = pd.read_csv(\"data/bakrep-export_18112024.tsv\",sep='\\t', low_memory=False, index_col=\"#id\")"
   ]
  },
  {
   "cell_type": "code",
   "execution_count": 20,
   "id": "fdf5bd61-bcf9-489b-a8fd-6fa47b593b61",
   "metadata": {},
   "outputs": [
    {
     "data": {
      "text/plain": [
       "[('bakta.genome.genus', dtype('O')),\n",
       " ('bakta.genome.species', dtype('O')),\n",
       " ('bakta.genome.strain', dtype('O')),\n",
       " ('bakta.stats.no_sequences', dtype('float64')),\n",
       " ('bakta.stats.size', dtype('float64')),\n",
       " ('bakta.stats.gc', dtype('float64')),\n",
       " ('bakta.stats.n_ratio', dtype('float64')),\n",
       " ('bakta.stats.n50', dtype('float64')),\n",
       " ('bakta.stats.coding_ratio', dtype('float64')),\n",
       " ('gtdbtk.classification.domain', dtype('O')),\n",
       " ('gtdbtk.classification.phylum', dtype('O')),\n",
       " ('gtdbtk.classification.class', dtype('O')),\n",
       " ('gtdbtk.classification.order', dtype('O')),\n",
       " ('gtdbtk.classification.family', dtype('O')),\n",
       " ('gtdbtk.classification.genus', dtype('O')),\n",
       " ('gtdbtk.classification.species', dtype('O')),\n",
       " ('mlst.sequence_type', dtype('O')),\n",
       " ('checkm2.quality.completeness', dtype('float64')),\n",
       " ('checkm2.quality.contamination', dtype('float64')),\n",
       " ('metadata.accession', dtype('O')),\n",
       " ('metadata.collected_by', dtype('O')),\n",
       " ('metadata.collection_date', dtype('O')),\n",
       " ('metadata.country', dtype('O')),\n",
       " ('metadata.host', dtype('O')),\n",
       " ('metadata.host_sex', dtype('O')),\n",
       " ('metadata.host_status', dtype('O')),\n",
       " ('metadata.host_tax_id', dtype('float64')),\n",
       " ('metadata.instrument_model', dtype('O')),\n",
       " ('metadata.instrument_platform', dtype('O')),\n",
       " ('metadata.isolate', dtype('O')),\n",
       " ('metadata.isolation_source', dtype('O')),\n",
       " ('metadata.location', dtype('O')),\n",
       " ('metadata.project_name', dtype('O')),\n",
       " ('metadata.sample_alias', dtype('O')),\n",
       " ('metadata.secondary_sample_accession', dtype('O')),\n",
       " ('metadata.secondary_study_accession', dtype('O')),\n",
       " ('metadata.serotype', dtype('O')),\n",
       " ('metadata.serovar', dtype('O')),\n",
       " ('metadata.strain', dtype('O')),\n",
       " ('metadata.study_accession', dtype('O')),\n",
       " ('metadata.submission_accession', dtype('O'))]"
      ]
     },
     "execution_count": 20,
     "metadata": {},
     "output_type": "execute_result"
    }
   ],
   "source": [
    "[tup for tup in zip(bakrep_metadata.columns, bakrep_metadata.dtypes)]"
   ]
  },
  {
   "cell_type": "code",
   "execution_count": 21,
   "id": "d98354b9-b90b-45f9-90e9-08232cd3c7a1",
   "metadata": {},
   "outputs": [
    {
     "data": {
      "text/html": [
       "<div>\n",
       "<style scoped>\n",
       "    .dataframe tbody tr th:only-of-type {\n",
       "        vertical-align: middle;\n",
       "    }\n",
       "\n",
       "    .dataframe tbody tr th {\n",
       "        vertical-align: top;\n",
       "    }\n",
       "\n",
       "    .dataframe thead th {\n",
       "        text-align: right;\n",
       "    }\n",
       "</style>\n",
       "<table border=\"1\" class=\"dataframe\">\n",
       "  <thead>\n",
       "    <tr style=\"text-align: right;\">\n",
       "      <th></th>\n",
       "      <th>metadata.accession</th>\n",
       "    </tr>\n",
       "    <tr>\n",
       "      <th>#id</th>\n",
       "      <th></th>\n",
       "    </tr>\n",
       "  </thead>\n",
       "  <tbody>\n",
       "    <tr>\n",
       "      <th>SAMD00000344</th>\n",
       "      <td>SAMD00000344</td>\n",
       "    </tr>\n",
       "    <tr>\n",
       "      <th>SAMD00000345</th>\n",
       "      <td>SAMD00000345</td>\n",
       "    </tr>\n",
       "    <tr>\n",
       "      <th>SAMD00000355</th>\n",
       "      <td>SAMD00000355</td>\n",
       "    </tr>\n",
       "    <tr>\n",
       "      <th>SAMD00000550</th>\n",
       "      <td>SAMD00000550</td>\n",
       "    </tr>\n",
       "    <tr>\n",
       "      <th>SAMD00000552</th>\n",
       "      <td>SAMD00000552</td>\n",
       "    </tr>\n",
       "    <tr>\n",
       "      <th>...</th>\n",
       "      <td>...</td>\n",
       "    </tr>\n",
       "    <tr>\n",
       "      <th>SAMN10405967</th>\n",
       "      <td>SAMN10405967</td>\n",
       "    </tr>\n",
       "    <tr>\n",
       "      <th>SAMN10405968</th>\n",
       "      <td>SAMN10405968</td>\n",
       "    </tr>\n",
       "    <tr>\n",
       "      <th>SAMN10407504</th>\n",
       "      <td>SAMN10407504</td>\n",
       "    </tr>\n",
       "    <tr>\n",
       "      <th>SAMN10407505</th>\n",
       "      <td>SAMN10407505</td>\n",
       "    </tr>\n",
       "    <tr>\n",
       "      <th>SAMN10407507</th>\n",
       "      <td>SAMN10407507</td>\n",
       "    </tr>\n",
       "  </tbody>\n",
       "</table>\n",
       "<p>661402 rows × 1 columns</p>\n",
       "</div>"
      ],
      "text/plain": [
       "             metadata.accession\n",
       "#id                            \n",
       "SAMD00000344       SAMD00000344\n",
       "SAMD00000345       SAMD00000345\n",
       "SAMD00000355       SAMD00000355\n",
       "SAMD00000550       SAMD00000550\n",
       "SAMD00000552       SAMD00000552\n",
       "...                         ...\n",
       "SAMN10405967       SAMN10405967\n",
       "SAMN10405968       SAMN10405968\n",
       "SAMN10407504       SAMN10407504\n",
       "SAMN10407505       SAMN10407505\n",
       "SAMN10407507       SAMN10407507\n",
       "\n",
       "[661402 rows x 1 columns]"
      ]
     },
     "execution_count": 21,
     "metadata": {},
     "output_type": "execute_result"
    }
   ],
   "source": [
    "bakrep_metadata[[\"metadata.accession\"]]"
   ]
  },
  {
   "cell_type": "code",
   "execution_count": 22,
   "id": "572c915c-e725-48cb-a012-f3590e91303c",
   "metadata": {},
   "outputs": [],
   "source": [
    "est_card = pd.read_csv('/Users/ktruong/data/661k/est_card_661k.csv', header = None, names= ['id','card'], index_col= 'id' )"
   ]
  },
  {
   "cell_type": "code",
   "execution_count": 23,
   "id": "81d89d9e-495c-4db2-9905-139291628336",
   "metadata": {},
   "outputs": [
    {
     "data": {
      "text/html": [
       "<div>\n",
       "<style scoped>\n",
       "    .dataframe tbody tr th:only-of-type {\n",
       "        vertical-align: middle;\n",
       "    }\n",
       "\n",
       "    .dataframe tbody tr th {\n",
       "        vertical-align: top;\n",
       "    }\n",
       "\n",
       "    .dataframe thead th {\n",
       "        text-align: right;\n",
       "    }\n",
       "</style>\n",
       "<table border=\"1\" class=\"dataframe\">\n",
       "  <thead>\n",
       "    <tr style=\"text-align: right;\">\n",
       "      <th></th>\n",
       "      <th>card</th>\n",
       "    </tr>\n",
       "    <tr>\n",
       "      <th>id</th>\n",
       "      <th></th>\n",
       "    </tr>\n",
       "  </thead>\n",
       "  <tbody>\n",
       "    <tr>\n",
       "      <th>SAMN02844126</th>\n",
       "      <td>4722564.00</td>\n",
       "    </tr>\n",
       "    <tr>\n",
       "      <th>SAMN04558116</th>\n",
       "      <td>1589918.00</td>\n",
       "    </tr>\n",
       "    <tr>\n",
       "      <th>SAMEA2068521</th>\n",
       "      <td>6482382.50</td>\n",
       "    </tr>\n",
       "    <tr>\n",
       "      <th>SAMN09281158</th>\n",
       "      <td>2937214.75</td>\n",
       "    </tr>\n",
       "    <tr>\n",
       "      <th>SAMN09843229</th>\n",
       "      <td>4991481.50</td>\n",
       "    </tr>\n",
       "    <tr>\n",
       "      <th>...</th>\n",
       "      <td>...</td>\n",
       "    </tr>\n",
       "    <tr>\n",
       "      <th>SAMEA3481361</th>\n",
       "      <td>2161193.00</td>\n",
       "    </tr>\n",
       "    <tr>\n",
       "      <th>SAMN09650548</th>\n",
       "      <td>5065128.50</td>\n",
       "    </tr>\n",
       "    <tr>\n",
       "      <th>SAMN09463236</th>\n",
       "      <td>5239581.00</td>\n",
       "    </tr>\n",
       "    <tr>\n",
       "      <th>SAMEA2534426</th>\n",
       "      <td>4334674.00</td>\n",
       "    </tr>\n",
       "    <tr>\n",
       "      <th>SAMEA1016179</th>\n",
       "      <td>4344332.00</td>\n",
       "    </tr>\n",
       "  </tbody>\n",
       "</table>\n",
       "<p>661405 rows × 1 columns</p>\n",
       "</div>"
      ],
      "text/plain": [
       "                    card\n",
       "id                      \n",
       "SAMN02844126  4722564.00\n",
       "SAMN04558116  1589918.00\n",
       "SAMEA2068521  6482382.50\n",
       "SAMN09281158  2937214.75\n",
       "SAMN09843229  4991481.50\n",
       "...                  ...\n",
       "SAMEA3481361  2161193.00\n",
       "SAMN09650548  5065128.50\n",
       "SAMN09463236  5239581.00\n",
       "SAMEA2534426  4334674.00\n",
       "SAMEA1016179  4344332.00\n",
       "\n",
       "[661405 rows x 1 columns]"
      ]
     },
     "execution_count": 23,
     "metadata": {},
     "output_type": "execute_result"
    }
   ],
   "source": [
    "est_card"
   ]
  },
  {
   "cell_type": "code",
   "execution_count": 37,
   "id": "9545396f-12cd-43bb-904d-e602d50bd3e1",
   "metadata": {},
   "outputs": [
    {
     "data": {
      "text/plain": [
       "{'SAMD00080514', 'SAMD00080519', 'SAMD00080520'}"
      ]
     },
     "execution_count": 37,
     "metadata": {},
     "output_type": "execute_result"
    }
   ],
   "source": [
    "# missing 3 genomes\n",
    "set(est_card.index.values) - set(bakrep_metadata.index.values)"
   ]
  },
  {
   "cell_type": "code",
   "execution_count": 44,
   "id": "6f4d1f60-5e43-46c4-a028-fc60ee8eb2de",
   "metadata": {},
   "outputs": [],
   "source": [
    "species_groups =  bakrep_metadata.groupby(['gtdbtk.classification.species']).groups"
   ]
  },
  {
   "cell_type": "code",
   "execution_count": 45,
   "id": "19fb0157-2b62-45c1-a9f5-03fe4698f5bc",
   "metadata": {},
   "outputs": [
    {
     "data": {
      "text/plain": [
       "{'1-14-0-20-39-49 sp002787635': ['SAMN07622136'], '1-14-0-20-46-22 sp002796245': ['SAMN07622204'], '1162T-S-0a-05 sp000964245': ['SAMN02746023'], '14-2 sp000403255': ['SAMN01730990'], '14-2 sp000403315': ['SAMN01730994'], '14-2 sp000403845': ['SAMN01730989'], '1XD8-76 sp910573755': ['SAMEA80359918'], '2-02-FULL-42-43 sp002793195': ['SAMN07622190'], '2013Ark19i sp001460935': ['SAMEA2826832', 'SAMEA2826833', 'SAMEA3903147'], '2013Ark19i sp900078745': ['SAMEA2172052', 'SAMEA2826834', 'SAMEA2826837', 'SAMEA2826838', 'SAMEA2826839', 'SAMEA2826840', 'SAMEA2826841', 'SAMEA3903146'], '49-20 sp002417685': ['SAMN06453970'], '79-D21 sp002432945': ['SAMN06453974'], 'A37T11 sp900109895': ['SAMN05216436'], 'AAA044-D11 sp000485495': ['SAMN02194296'], 'AAA164-E04 sp000383715': ['SAMN02441633'], 'AAA240-E13 sp000504605': ['SAMN02597171'], 'AAA240-E13 sp000504625': ['SAMN02597172'], 'AAA240-E13 sp000513055': ['SAMN02597280'], 'AAA240-E13 sp000513075': ['SAMN02597281'], 'AAA240-E13 sp003209225': ['SAMN08886570'], 'AAA240-E13 sp003211695': ['SAMN08886571'], 'AAA300-D14 sp002715065': ['SAMN02441642'], 'AAA536-G10 sp000383115': ['SAMN02441297'], 'AAA536-G10 sp000384615': ['SAMN02440508'], 'AAA536-G10 sp000421325': ['SAMN02441242'], 'AAA536-G10 sp003278095': ['SAMN08886286'], 'AAA536-G10 sp003282145': ['SAMN08886084'], 'AAA536-G10 sp003282435': ['SAMN08886065'], 'AAA536-G10 sp003282885': ['SAMN08886042'], 'AAA536-G10 sp003283875': ['SAMN08886004'], 'AAA536-G10 sp003284565': ['SAMN08886015'], 'AB-137-C09 sp000379225': ['SAMN02256461', 'SAMN02745038'], 'AEGEAN-183 sp012965075': ['SAMN02744673', 'SAMN02745094', 'SAMN02745522'], 'AG-337-I02 sp003282155': ['SAMN08886083'], 'AG-337-I02 sp902554185': ['SAMN08886379'], 'AG-339-G14 sp003282105': ['SAMN08886086'], 'AG-363-A16 sp003280345': ['SAMN08886234'], 'AG-363-B04 sp003278465': ['SAMN08886235'], 'AG-363-J23 sp003280095': ['SAMN08886259'], 'AG-363-J23 sp003280245': ['SAMN08886246'], 'AG-363-K07 sp003211755': ['SAMN08886563'], 'AG-363-K07 sp003278175': ['SAMN08886264'], 'AG-363-K07 sp003278225': ['SAMN08886261'], 'AG-363-K07 sp003280225': ['SAMN08886247'], 'AG-363-K07 sp003280295': ['SAMN08886241'], 'AG-363-N16 sp003278305': ['SAMN08886253'], 'AG-363-N16 sp003280135': ['SAMN08886255'], 'AG-363-N20 sp003280105': ['SAMN08886256'], 'AG-363-O06 sp003280085': ['SAMN08886257'], 'AG-363-O15 sp003278255': ['SAMN08886258'], 'AG-363-P08 sp003278195': ['SAMN08886263'], 'AG-363-P08 sp003278365': ['SAMN08886251'], 'AG-363-P08 sp003280185': ['SAMN08886248'], 'AG-409-A19 sp003216155': ['SAMN08886344'], 'AG-409-B05 sp003216075': ['SAMN08886347'], 'AG-409-B13 sp003216035': ['SAMN08886349'], 'AG-409-D09 sp003215935': ['SAMN08886353'], 'AG-409-G20 sp003215775': ['SAMN08886359'], 'AG-409-I11 sp003215725': ['SAMN08886360'], 'AG-409-J16 sp003215655': ['SAMN08886364'], 'AG-409-J19 sp003215635': ['SAMN08886365'], 'AG-409-L14 sp003215545': ['SAMN08886361'], 'AG-409-L18 sp003215535': ['SAMN08886369'], 'AG-409-M05 sp003215435': ['SAMN08886372'], 'AG-409-N21 sp003215415': ['SAMN08886373'], 'AG-409-O23 sp003215355': ['SAMN08886374'], 'AG-409-P01 sp003215335': ['SAMN08886375'], 'AG-409-P03 sp003215295': ['SAMN08886376'], 'AG-414-E02 sp003214615': ['SAMN08886399'], 'AG-414-E02 sp016764285': ['SAMN02745502'], 'AG-422-B15 sp003211835': ['SAMN08886558'], 'AG-422-B15 sp003213515': ['SAMN08886436'], 'AG-422-B15 sp003213715': ['SAMN08886428'], 'AG-422-B15 sp003282175': ['SAMN08886082'], 'AG-422-B15 sp003282485': ['SAMN08886062'], 'AG-426-I14 sp003210055': ['SAMN08886459'], 'AG-426-I14 sp003213175': ['SAMN08886454'], 'AG-426-M11 sp003213095': ['SAMN08886462', 'SAMN08886471'], 'AG-430-B22 sp003209955': ['SAMN08886470'], 'AG-430-B22 sp003212795': ['SAMN08886488'], 'AG-430-B22 sp902533755': ['SAMN08886105'], 'AG-432-D11 sp003212885': ['SAMN08886482'], 'AG-463-P14 sp003209275': ['SAMN08886568'], 'ATCC-39006 sp002847015': ['SAMEA1964939'], 'ATWF01 sp000421105': ['SAMN02441578'], 'ATZT02 sp000428345': ['SAMN02440606'], 'AU392 sp003443635': ['SAMN10134658'], 'Abiotrophia defectiva': ['SAMD00012605', 'SAMN00008801'], 'Abiotrophia sp001815865': ['SAMN03436211'], 'Absicoccus sp000434355': ['SAMEA1483370'], 'Acaricomes phytoseiuli': ['SAMN02194524'], 'Acetanaerobacterium elongatum': ['SAMN05192585'], 'Acetatifactor intestinalis': ['SAMEA3545291', 'SAMN04461303'], 'Acetatifactor muris': ['SAMEA3725555'], 'Acetatifactor sp900066565': ['SAMD00113756', 'SAMEA3539476', 'SAMEA3539482', 'SAMEA3545339'], 'Acetitomaculum ruminis': ['SAMN05216249'], 'Acetivibrio clariflavus': ['SAMN00262672', 'SAMN00262676', 'SAMN00262678', 'SAMN00262687', 'SAMN02261428', 'SAMN02584913', 'SAMN05518767', 'SAMN05518790', 'SAMN05519245'], 'Acetoanaerobium noterae': ['SAMN02745120'], 'Acetoanaerobium pronyense': ['SAMN06229904'], 'Acetobacter aceti': ['SAMN00773124', 'SAMN02256453'], ...}"
      ]
     },
     "execution_count": 45,
     "metadata": {},
     "output_type": "execute_result"
    }
   ],
   "source": [
    "species_groups"
   ]
  },
  {
   "cell_type": "code",
   "execution_count": null,
   "id": "4f27d380-097d-4e28-9127-31394f085433",
   "metadata": {},
   "outputs": [],
   "source": []
  }
 ],
 "metadata": {
  "kernelspec": {
   "display_name": "Python 3 (ipykernel)",
   "language": "python",
   "name": "python3"
  },
  "language_info": {
   "codemirror_mode": {
    "name": "ipython",
    "version": 3
   },
   "file_extension": ".py",
   "mimetype": "text/x-python",
   "name": "python",
   "nbconvert_exporter": "python",
   "pygments_lexer": "ipython3",
   "version": "3.12.7"
  }
 },
 "nbformat": 4,
 "nbformat_minor": 5
}
