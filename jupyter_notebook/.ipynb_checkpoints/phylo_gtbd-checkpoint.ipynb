{
 "cells": [
  {
   "cell_type": "code",
   "execution_count": 1,
   "id": "67ea9fb6-a87e-4f6f-a601-494b051f0974",
   "metadata": {},
   "outputs": [],
   "source": [
    "import os\n",
    "import pandas as pd\n",
    "import numpy as np"
   ]
  },
  {
   "cell_type": "code",
   "execution_count": 2,
   "id": "c9a7f001-68e7-4074-9ee5-8b9eacd17365",
   "metadata": {},
   "outputs": [],
   "source": [
    "gtbd_taxo = pd.read_csv('/Users/ktruong/data/gtbd_r220/bac120_taxonomy_r220.tsv',sep=';', header=None)"
   ]
  },
  {
   "cell_type": "code",
   "execution_count": 3,
   "id": "33409c56-f686-4695-858d-2dd6c2b9d2c1",
   "metadata": {},
   "outputs": [
    {
     "data": {
      "text/html": [
       "<div>\n",
       "<style scoped>\n",
       "    .dataframe tbody tr th:only-of-type {\n",
       "        vertical-align: middle;\n",
       "    }\n",
       "\n",
       "    .dataframe tbody tr th {\n",
       "        vertical-align: top;\n",
       "    }\n",
       "\n",
       "    .dataframe thead th {\n",
       "        text-align: right;\n",
       "    }\n",
       "</style>\n",
       "<table border=\"1\" class=\"dataframe\">\n",
       "  <thead>\n",
       "    <tr style=\"text-align: right;\">\n",
       "      <th></th>\n",
       "      <th>0</th>\n",
       "      <th>1</th>\n",
       "      <th>2</th>\n",
       "      <th>3</th>\n",
       "      <th>4</th>\n",
       "      <th>5</th>\n",
       "      <th>6</th>\n",
       "    </tr>\n",
       "  </thead>\n",
       "  <tbody>\n",
       "    <tr>\n",
       "      <th>0</th>\n",
       "      <td>RS_GCF_015356595.1\\td__Bacteria</td>\n",
       "      <td>p__Pseudomonadota</td>\n",
       "      <td>c__Gammaproteobacteria</td>\n",
       "      <td>o__Enterobacterales</td>\n",
       "      <td>f__Enterobacteriaceae</td>\n",
       "      <td>g__Escherichia</td>\n",
       "      <td>s__Escherichia coli</td>\n",
       "    </tr>\n",
       "    <tr>\n",
       "      <th>1</th>\n",
       "      <td>RS_GCF_026420985.1\\td__Bacteria</td>\n",
       "      <td>p__Pseudomonadota</td>\n",
       "      <td>c__Gammaproteobacteria</td>\n",
       "      <td>o__Enterobacterales</td>\n",
       "      <td>f__Enterobacteriaceae</td>\n",
       "      <td>g__Escherichia</td>\n",
       "      <td>s__Escherichia coli</td>\n",
       "    </tr>\n",
       "    <tr>\n",
       "      <th>2</th>\n",
       "      <td>RS_GCF_001263015.1\\td__Bacteria</td>\n",
       "      <td>p__Pseudomonadota</td>\n",
       "      <td>c__Gammaproteobacteria</td>\n",
       "      <td>o__Enterobacterales</td>\n",
       "      <td>f__Enterobacteriaceae</td>\n",
       "      <td>g__Escherichia</td>\n",
       "      <td>s__Escherichia coli</td>\n",
       "    </tr>\n",
       "    <tr>\n",
       "      <th>3</th>\n",
       "      <td>RS_GCF_014926105.1\\td__Bacteria</td>\n",
       "      <td>p__Pseudomonadota</td>\n",
       "      <td>c__Gammaproteobacteria</td>\n",
       "      <td>o__Enterobacterales</td>\n",
       "      <td>f__Enterobacteriaceae</td>\n",
       "      <td>g__Escherichia</td>\n",
       "      <td>s__Escherichia coli</td>\n",
       "    </tr>\n",
       "    <tr>\n",
       "      <th>4</th>\n",
       "      <td>RS_GCF_003591595.1\\td__Bacteria</td>\n",
       "      <td>p__Pseudomonadota</td>\n",
       "      <td>c__Gammaproteobacteria</td>\n",
       "      <td>o__Enterobacterales</td>\n",
       "      <td>f__Enterobacteriaceae</td>\n",
       "      <td>g__Escherichia</td>\n",
       "      <td>s__Escherichia coli</td>\n",
       "    </tr>\n",
       "  </tbody>\n",
       "</table>\n",
       "</div>"
      ],
      "text/plain": [
       "                                 0                  1                       2  \\\n",
       "0  RS_GCF_015356595.1\\td__Bacteria  p__Pseudomonadota  c__Gammaproteobacteria   \n",
       "1  RS_GCF_026420985.1\\td__Bacteria  p__Pseudomonadota  c__Gammaproteobacteria   \n",
       "2  RS_GCF_001263015.1\\td__Bacteria  p__Pseudomonadota  c__Gammaproteobacteria   \n",
       "3  RS_GCF_014926105.1\\td__Bacteria  p__Pseudomonadota  c__Gammaproteobacteria   \n",
       "4  RS_GCF_003591595.1\\td__Bacteria  p__Pseudomonadota  c__Gammaproteobacteria   \n",
       "\n",
       "                     3                      4               5  \\\n",
       "0  o__Enterobacterales  f__Enterobacteriaceae  g__Escherichia   \n",
       "1  o__Enterobacterales  f__Enterobacteriaceae  g__Escherichia   \n",
       "2  o__Enterobacterales  f__Enterobacteriaceae  g__Escherichia   \n",
       "3  o__Enterobacterales  f__Enterobacteriaceae  g__Escherichia   \n",
       "4  o__Enterobacterales  f__Enterobacteriaceae  g__Escherichia   \n",
       "\n",
       "                     6  \n",
       "0  s__Escherichia coli  \n",
       "1  s__Escherichia coli  \n",
       "2  s__Escherichia coli  \n",
       "3  s__Escherichia coli  \n",
       "4  s__Escherichia coli  "
      ]
     },
     "execution_count": 3,
     "metadata": {},
     "output_type": "execute_result"
    }
   ],
   "source": [
    "gtbd_taxo.head()"
   ]
  },
  {
   "cell_type": "code",
   "execution_count": 4,
   "id": "09faafe4-ddb0-47f4-96a1-3ddba2a1580b",
   "metadata": {},
   "outputs": [],
   "source": [
    "split_first_col = gtbd_taxo[0].str.split('\\t',expand=True)"
   ]
  },
  {
   "cell_type": "code",
   "execution_count": 5,
   "id": "33dfe4d2-e636-4a74-b8d7-7fe43f86af75",
   "metadata": {},
   "outputs": [],
   "source": [
    "gtbd_taxo.index = split_first_col[0].values"
   ]
  },
  {
   "cell_type": "code",
   "execution_count": 6,
   "id": "e0b43ec3-0055-4a80-9df2-cd5c1064538f",
   "metadata": {},
   "outputs": [],
   "source": [
    "gtbd_taxo[0] = split_first_col[1].values"
   ]
  },
  {
   "cell_type": "code",
   "execution_count": 7,
   "id": "2924094d-5483-40dc-a7fa-9b35ec44456f",
   "metadata": {},
   "outputs": [],
   "source": [
    "gtbd_taxo.columns = ['Domain','Phylum','Class','Order','Family','Genus','Species']"
   ]
  },
  {
   "cell_type": "code",
   "execution_count": 8,
   "id": "861d7128-e54e-455f-8fcb-8deba538b4ff",
   "metadata": {},
   "outputs": [
    {
     "data": {
      "text/html": [
       "<div>\n",
       "<style scoped>\n",
       "    .dataframe tbody tr th:only-of-type {\n",
       "        vertical-align: middle;\n",
       "    }\n",
       "\n",
       "    .dataframe tbody tr th {\n",
       "        vertical-align: top;\n",
       "    }\n",
       "\n",
       "    .dataframe thead th {\n",
       "        text-align: right;\n",
       "    }\n",
       "</style>\n",
       "<table border=\"1\" class=\"dataframe\">\n",
       "  <thead>\n",
       "    <tr style=\"text-align: right;\">\n",
       "      <th></th>\n",
       "      <th>Domain</th>\n",
       "      <th>Phylum</th>\n",
       "      <th>Class</th>\n",
       "      <th>Order</th>\n",
       "      <th>Family</th>\n",
       "      <th>Genus</th>\n",
       "      <th>Species</th>\n",
       "    </tr>\n",
       "  </thead>\n",
       "  <tbody>\n",
       "    <tr>\n",
       "      <th>RS_GCF_015356595.1</th>\n",
       "      <td>d__Bacteria</td>\n",
       "      <td>p__Pseudomonadota</td>\n",
       "      <td>c__Gammaproteobacteria</td>\n",
       "      <td>o__Enterobacterales</td>\n",
       "      <td>f__Enterobacteriaceae</td>\n",
       "      <td>g__Escherichia</td>\n",
       "      <td>s__Escherichia coli</td>\n",
       "    </tr>\n",
       "    <tr>\n",
       "      <th>RS_GCF_026420985.1</th>\n",
       "      <td>d__Bacteria</td>\n",
       "      <td>p__Pseudomonadota</td>\n",
       "      <td>c__Gammaproteobacteria</td>\n",
       "      <td>o__Enterobacterales</td>\n",
       "      <td>f__Enterobacteriaceae</td>\n",
       "      <td>g__Escherichia</td>\n",
       "      <td>s__Escherichia coli</td>\n",
       "    </tr>\n",
       "    <tr>\n",
       "      <th>RS_GCF_001263015.1</th>\n",
       "      <td>d__Bacteria</td>\n",
       "      <td>p__Pseudomonadota</td>\n",
       "      <td>c__Gammaproteobacteria</td>\n",
       "      <td>o__Enterobacterales</td>\n",
       "      <td>f__Enterobacteriaceae</td>\n",
       "      <td>g__Escherichia</td>\n",
       "      <td>s__Escherichia coli</td>\n",
       "    </tr>\n",
       "    <tr>\n",
       "      <th>RS_GCF_014926105.1</th>\n",
       "      <td>d__Bacteria</td>\n",
       "      <td>p__Pseudomonadota</td>\n",
       "      <td>c__Gammaproteobacteria</td>\n",
       "      <td>o__Enterobacterales</td>\n",
       "      <td>f__Enterobacteriaceae</td>\n",
       "      <td>g__Escherichia</td>\n",
       "      <td>s__Escherichia coli</td>\n",
       "    </tr>\n",
       "    <tr>\n",
       "      <th>RS_GCF_003591595.1</th>\n",
       "      <td>d__Bacteria</td>\n",
       "      <td>p__Pseudomonadota</td>\n",
       "      <td>c__Gammaproteobacteria</td>\n",
       "      <td>o__Enterobacterales</td>\n",
       "      <td>f__Enterobacteriaceae</td>\n",
       "      <td>g__Escherichia</td>\n",
       "      <td>s__Escherichia coli</td>\n",
       "    </tr>\n",
       "  </tbody>\n",
       "</table>\n",
       "</div>"
      ],
      "text/plain": [
       "                         Domain             Phylum                   Class  \\\n",
       "RS_GCF_015356595.1  d__Bacteria  p__Pseudomonadota  c__Gammaproteobacteria   \n",
       "RS_GCF_026420985.1  d__Bacteria  p__Pseudomonadota  c__Gammaproteobacteria   \n",
       "RS_GCF_001263015.1  d__Bacteria  p__Pseudomonadota  c__Gammaproteobacteria   \n",
       "RS_GCF_014926105.1  d__Bacteria  p__Pseudomonadota  c__Gammaproteobacteria   \n",
       "RS_GCF_003591595.1  d__Bacteria  p__Pseudomonadota  c__Gammaproteobacteria   \n",
       "\n",
       "                                  Order                 Family  \\\n",
       "RS_GCF_015356595.1  o__Enterobacterales  f__Enterobacteriaceae   \n",
       "RS_GCF_026420985.1  o__Enterobacterales  f__Enterobacteriaceae   \n",
       "RS_GCF_001263015.1  o__Enterobacterales  f__Enterobacteriaceae   \n",
       "RS_GCF_014926105.1  o__Enterobacterales  f__Enterobacteriaceae   \n",
       "RS_GCF_003591595.1  o__Enterobacterales  f__Enterobacteriaceae   \n",
       "\n",
       "                             Genus              Species  \n",
       "RS_GCF_015356595.1  g__Escherichia  s__Escherichia coli  \n",
       "RS_GCF_026420985.1  g__Escherichia  s__Escherichia coli  \n",
       "RS_GCF_001263015.1  g__Escherichia  s__Escherichia coli  \n",
       "RS_GCF_014926105.1  g__Escherichia  s__Escherichia coli  \n",
       "RS_GCF_003591595.1  g__Escherichia  s__Escherichia coli  "
      ]
     },
     "execution_count": 8,
     "metadata": {},
     "output_type": "execute_result"
    }
   ],
   "source": [
    "gtbd_taxo.head()"
   ]
  },
  {
   "cell_type": "code",
   "execution_count": 9,
   "id": "ba290df0-3d2e-48da-9031-9bb4f119dd67",
   "metadata": {},
   "outputs": [],
   "source": [
    "gtbd_group_by_species = gtbd_taxo.groupby('Species').groups"
   ]
  },
  {
   "cell_type": "code",
   "execution_count": 10,
   "id": "815facb9-4b1c-4015-854f-7a65d35e0251",
   "metadata": {},
   "outputs": [
    {
     "data": {
      "text/plain": [
       "107235"
      ]
     },
     "execution_count": 10,
     "metadata": {},
     "output_type": "execute_result"
    }
   ],
   "source": [
    "len(gtbd_group_by_species)"
   ]
  },
  {
   "cell_type": "code",
   "execution_count": 11,
   "id": "68a190de-5b30-42c3-9c84-c9c54e962685",
   "metadata": {},
   "outputs": [],
   "source": [
    "gtbd_group_by_species_sizes = gtbd_taxo.groupby('Species').size()"
   ]
  },
  {
   "cell_type": "code",
   "execution_count": 12,
   "id": "87995e10-c68d-4a10-b1b5-01bee5692aa4",
   "metadata": {},
   "outputs": [
    {
     "data": {
      "text/plain": [
       "Species\n",
       "s__Escherichia coli                 38926\n",
       "s__Klebsiella pneumoniae            18499\n",
       "s__Staphylococcus aureus            16021\n",
       "s__Salmonella enterica              15089\n",
       "s__Streptococcus pneumoniae          9133\n",
       "s__Acinetobacter baumannii           8536\n",
       "s__Pseudomonas aeruginosa            8390\n",
       "s__Mycobacterium tuberculosis        7337\n",
       "s__Enterococcus_B faecium            3202\n",
       "s__Enterococcus faecalis             3044\n",
       "s__Clostridioides difficile          2991\n",
       "s__Campylobacter_D jejuni            2873\n",
       "s__Listeria monocytogenes            2517\n",
       "s__Neisseria meningitidis            2336\n",
       "s__Vibrio parahaemolyticus           2264\n",
       "s__Streptococcus pyogenes            2258\n",
       "s__Mycobacterium abscessus           2029\n",
       "s__Listeria monocytogenes_B          2025\n",
       "s__Burkholderia mallei               1934\n",
       "s__Streptococcus agalactiae          1893\n",
       "s__Vibrio cholerae                   1783\n",
       "s__Streptococcus suis                1713\n",
       "s__Staphylococcus epidermidis        1521\n",
       "s__Enterobacter hormaechei_B         1410\n",
       "s__Pseudomonas_E viridiflava         1393\n",
       "s__Campylobacter_D coli              1368\n",
       "s__UBA7173 sp001689485               1211\n",
       "s__Bordetella pertussis              1141\n",
       "s__Muribaculum gordoncarteri         1136\n",
       "s__Neisseria gonorrhoeae             1120\n",
       "s__Klebsiella quasipneumoniae        1085\n",
       "s__Wolbachia pipientis               1068\n",
       "s__Brucella melitensis               1067\n",
       "s__Akkermansia muciniphila           1065\n",
       "s__Ligilactobacillus murinus         1060\n",
       "s__Lactiplantibacillus plantarum     1046\n",
       "s__Enterobacter hormaechei_C         1020\n",
       "s__Legionella pneumophila             998\n",
       "s__Alistipes muris                    985\n",
       "s__Alistipes sp002362235              984\n",
       "s__Proteus mirabilis                  949\n",
       "s__Cryptobacteroides sp910585445      946\n",
       "s__Francisella tularensis             934\n",
       "s__Lepagella muris_A                  930\n",
       "s__Phocaeicola vulgatus               914\n",
       "s__Duncaniella freteri                883\n",
       "s__Bacillus velezensis                875\n",
       "s__Citrobacter freundii               854\n",
       "s__Klebsiella variicola               822\n",
       "s__Alistipes sp009774895              815\n",
       "dtype: int64"
      ]
     },
     "execution_count": 12,
     "metadata": {},
     "output_type": "execute_result"
    }
   ],
   "source": [
    "size_sorted = gtbd_group_by_species_sizes.sort_values(ascending=False)\n",
    "size_sorted.head(50)"
   ]
  },
  {
   "cell_type": "code",
   "execution_count": 13,
   "id": "f2b48d03-d6c3-4a95-9413-89d9c0440864",
   "metadata": {},
   "outputs": [],
   "source": [
    "highly_sampled = size_sorted[size_sorted>1000]"
   ]
  },
  {
   "cell_type": "markdown",
   "id": "06ba8d23-f47f-4851-98e3-fafeca424bcb",
   "metadata": {},
   "source": [
    "# Group by genus"
   ]
  },
  {
   "cell_type": "code",
   "execution_count": 14,
   "id": "0c9a1302-0a70-4e4d-b4b3-cd02375ae505",
   "metadata": {},
   "outputs": [],
   "source": [
    "gtbd_group_by_genus = gtbd_taxo.groupby('Genus').groups"
   ]
  },
  {
   "cell_type": "code",
   "execution_count": 15,
   "id": "122fa0c0-7825-4f4f-a283-6e7719c87775",
   "metadata": {},
   "outputs": [],
   "source": [
    "gtbd_group_by_genus_size = gtbd_taxo.groupby('Genus').size()"
   ]
  },
  {
   "cell_type": "code",
   "execution_count": 16,
   "id": "dd0db5e5-c4c7-4354-89d4-efbfb4216285",
   "metadata": {},
   "outputs": [
    {
     "data": {
      "text/plain": [
       "Genus\n",
       "g__Escherichia       39673\n",
       "g__Klebsiella        22500\n",
       "g__Staphylococcus    21291\n",
       "g__Streptococcus     20045\n",
       "g__Salmonella        15373\n",
       "                     ...  \n",
       "g__JAITXR01              1\n",
       "g__JAITXT01              1\n",
       "g__JAIULY01              1\n",
       "g__JAIUMV01              1\n",
       "g__JAIRST01              1\n",
       "Length: 23112, dtype: int64"
      ]
     },
     "execution_count": 16,
     "metadata": {},
     "output_type": "execute_result"
    }
   ],
   "source": [
    "size_sorted_genus = gtbd_group_by_genus_size.sort_values(ascending=False)\n",
    "size_sorted_genus"
   ]
  },
  {
   "cell_type": "markdown",
   "id": "78ed303d-a7fa-4562-af14-c2fa2c85ede1",
   "metadata": {},
   "source": [
    "# Group by species and genus"
   ]
  },
  {
   "cell_type": "code",
   "execution_count": 67,
   "id": "d6ccb146-e7ec-4096-9e7c-431f785f82d2",
   "metadata": {},
   "outputs": [
    {
     "data": {
      "text/plain": [
       "Genus               Species                       \n",
       "g__0-14-0-10-38-17  s__0-14-0-10-38-17 sp002774085     1\n",
       "g__0-14-0-20-40-13  s__0-14-0-20-40-13 sp002774285     1\n",
       "g__0-14-0-20-44-26  s__0-14-0-20-44-26 sp002779055     1\n",
       "g__0-14-0-20-45-22  s__0-14-0-20-45-22 sp002774355     1\n",
       "                    s__0-14-0-20-45-22 sp028719225     1\n",
       "                                                      ..\n",
       "g__Zymogenus        s__Zymogenus sp030613285           1\n",
       "g__Zymomonas        s__Zymomonas mobilis              28\n",
       "                    s__Zymomonas mobilis_B             1\n",
       "                    s__Zymomonas pomaceae              2\n",
       "                    s__Zymomonas sp020216885           1\n",
       "Length: 107235, dtype: int64"
      ]
     },
     "execution_count": 67,
     "metadata": {},
     "output_type": "execute_result"
    }
   ],
   "source": [
    "gtbd_group_by_sp_ge = gtbd_taxo.groupby(['Genus','Species']).size()\n",
    "gtbd_group_by_sp_ge"
   ]
  },
  {
   "cell_type": "code",
   "execution_count": 68,
   "id": "57de8d9d-c606-4ee9-b137-fb47582aa689",
   "metadata": {},
   "outputs": [],
   "source": [
    "df_se_ge = gtbd_group_by_sp_ge.to_frame()"
   ]
  },
  {
   "cell_type": "code",
   "execution_count": 69,
   "id": "6e6308fa-8ff3-4aee-9d99-ddee8a9eab4e",
   "metadata": {},
   "outputs": [],
   "source": [
    "df_se_ge.columns = ['Count']"
   ]
  },
  {
   "cell_type": "code",
   "execution_count": 70,
   "id": "93434565-d4ad-4db6-b4a0-f14b8e5312e7",
   "metadata": {},
   "outputs": [
    {
     "data": {
      "text/html": [
       "<div>\n",
       "<style scoped>\n",
       "    .dataframe tbody tr th:only-of-type {\n",
       "        vertical-align: middle;\n",
       "    }\n",
       "\n",
       "    .dataframe tbody tr th {\n",
       "        vertical-align: top;\n",
       "    }\n",
       "\n",
       "    .dataframe thead th {\n",
       "        text-align: right;\n",
       "    }\n",
       "</style>\n",
       "<table border=\"1\" class=\"dataframe\">\n",
       "  <thead>\n",
       "    <tr style=\"text-align: right;\">\n",
       "      <th></th>\n",
       "      <th>Genus</th>\n",
       "      <th>Species</th>\n",
       "      <th>Count</th>\n",
       "    </tr>\n",
       "  </thead>\n",
       "  <tbody>\n",
       "    <tr>\n",
       "      <th>0</th>\n",
       "      <td>g__0-14-0-10-38-17</td>\n",
       "      <td>s__0-14-0-10-38-17 sp002774085</td>\n",
       "      <td>1</td>\n",
       "    </tr>\n",
       "    <tr>\n",
       "      <th>1</th>\n",
       "      <td>g__0-14-0-20-40-13</td>\n",
       "      <td>s__0-14-0-20-40-13 sp002774285</td>\n",
       "      <td>1</td>\n",
       "    </tr>\n",
       "    <tr>\n",
       "      <th>2</th>\n",
       "      <td>g__0-14-0-20-44-26</td>\n",
       "      <td>s__0-14-0-20-44-26 sp002779055</td>\n",
       "      <td>1</td>\n",
       "    </tr>\n",
       "    <tr>\n",
       "      <th>3</th>\n",
       "      <td>g__0-14-0-20-45-22</td>\n",
       "      <td>s__0-14-0-20-45-22 sp002774355</td>\n",
       "      <td>1</td>\n",
       "    </tr>\n",
       "    <tr>\n",
       "      <th>4</th>\n",
       "      <td>g__0-14-0-20-45-22</td>\n",
       "      <td>s__0-14-0-20-45-22 sp028719225</td>\n",
       "      <td>1</td>\n",
       "    </tr>\n",
       "    <tr>\n",
       "      <th>...</th>\n",
       "      <td>...</td>\n",
       "      <td>...</td>\n",
       "      <td>...</td>\n",
       "    </tr>\n",
       "    <tr>\n",
       "      <th>107230</th>\n",
       "      <td>g__Zymogenus</td>\n",
       "      <td>s__Zymogenus sp030613285</td>\n",
       "      <td>1</td>\n",
       "    </tr>\n",
       "    <tr>\n",
       "      <th>107231</th>\n",
       "      <td>g__Zymomonas</td>\n",
       "      <td>s__Zymomonas mobilis</td>\n",
       "      <td>28</td>\n",
       "    </tr>\n",
       "    <tr>\n",
       "      <th>107232</th>\n",
       "      <td>g__Zymomonas</td>\n",
       "      <td>s__Zymomonas mobilis_B</td>\n",
       "      <td>1</td>\n",
       "    </tr>\n",
       "    <tr>\n",
       "      <th>107233</th>\n",
       "      <td>g__Zymomonas</td>\n",
       "      <td>s__Zymomonas pomaceae</td>\n",
       "      <td>2</td>\n",
       "    </tr>\n",
       "    <tr>\n",
       "      <th>107234</th>\n",
       "      <td>g__Zymomonas</td>\n",
       "      <td>s__Zymomonas sp020216885</td>\n",
       "      <td>1</td>\n",
       "    </tr>\n",
       "  </tbody>\n",
       "</table>\n",
       "<p>107235 rows × 3 columns</p>\n",
       "</div>"
      ],
      "text/plain": [
       "                     Genus                         Species  Count\n",
       "0       g__0-14-0-10-38-17  s__0-14-0-10-38-17 sp002774085      1\n",
       "1       g__0-14-0-20-40-13  s__0-14-0-20-40-13 sp002774285      1\n",
       "2       g__0-14-0-20-44-26  s__0-14-0-20-44-26 sp002779055      1\n",
       "3       g__0-14-0-20-45-22  s__0-14-0-20-45-22 sp002774355      1\n",
       "4       g__0-14-0-20-45-22  s__0-14-0-20-45-22 sp028719225      1\n",
       "...                    ...                             ...    ...\n",
       "107230        g__Zymogenus        s__Zymogenus sp030613285      1\n",
       "107231        g__Zymomonas            s__Zymomonas mobilis     28\n",
       "107232        g__Zymomonas          s__Zymomonas mobilis_B      1\n",
       "107233        g__Zymomonas           s__Zymomonas pomaceae      2\n",
       "107234        g__Zymomonas        s__Zymomonas sp020216885      1\n",
       "\n",
       "[107235 rows x 3 columns]"
      ]
     },
     "execution_count": 70,
     "metadata": {},
     "output_type": "execute_result"
    }
   ],
   "source": [
    "df_se_ge = df_se_ge.reset_index()\n",
    "df_se_ge"
   ]
  },
  {
   "cell_type": "code",
   "execution_count": 75,
   "id": "3b1ce221-54f7-403c-a99d-f4f5181f6822",
   "metadata": {
    "scrolled": true
   },
   "outputs": [
    {
     "ename": "TypeError",
     "evalue": "'>' not supported between instances of 'str' and 'int'",
     "output_type": "error",
     "traceback": [
      "\u001b[0;31m---------------------------------------------------------------------------\u001b[0m",
      "\u001b[0;31mTypeError\u001b[0m                                 Traceback (most recent call last)",
      "Cell \u001b[0;32mIn[75], line 1\u001b[0m\n\u001b[0;32m----> 1\u001b[0m df_se_ge[df_se_ge\u001b[38;5;241m>\u001b[39m\u001b[38;5;241m10000\u001b[39m]\u001b[38;5;241m.\u001b[39msort_values(by\u001b[38;5;241m=\u001b[39m[\u001b[38;5;124m\"\u001b[39m\u001b[38;5;124mGenus\u001b[39m\u001b[38;5;124m\"\u001b[39m,\u001b[38;5;124m\"\u001b[39m\u001b[38;5;124mCount\u001b[39m\u001b[38;5;124m\"\u001b[39m,\u001b[38;5;124m\"\u001b[39m\u001b[38;5;124mSpecies\u001b[39m\u001b[38;5;124m\"\u001b[39m], ascending\u001b[38;5;241m=\u001b[39m[\u001b[38;5;28;01mFalse\u001b[39;00m,\u001b[38;5;28;01mFalse\u001b[39;00m,\u001b[38;5;28;01mFalse\u001b[39;00m])\u001b[38;5;241m.\u001b[39mhead(\u001b[38;5;241m30\u001b[39m)\n",
      "File \u001b[0;32m~/anaconda3/lib/python3.12/site-packages/pandas/core/ops/common.py:76\u001b[0m, in \u001b[0;36m_unpack_zerodim_and_defer.<locals>.new_method\u001b[0;34m(self, other)\u001b[0m\n\u001b[1;32m     72\u001b[0m             \u001b[38;5;28;01mreturn\u001b[39;00m \u001b[38;5;28mNotImplemented\u001b[39m\n\u001b[1;32m     74\u001b[0m other \u001b[38;5;241m=\u001b[39m item_from_zerodim(other)\n\u001b[0;32m---> 76\u001b[0m \u001b[38;5;28;01mreturn\u001b[39;00m method(\u001b[38;5;28mself\u001b[39m, other)\n",
      "File \u001b[0;32m~/anaconda3/lib/python3.12/site-packages/pandas/core/arraylike.py:56\u001b[0m, in \u001b[0;36mOpsMixin.__gt__\u001b[0;34m(self, other)\u001b[0m\n\u001b[1;32m     54\u001b[0m \u001b[38;5;129m@unpack_zerodim_and_defer\u001b[39m(\u001b[38;5;124m\"\u001b[39m\u001b[38;5;124m__gt__\u001b[39m\u001b[38;5;124m\"\u001b[39m)\n\u001b[1;32m     55\u001b[0m \u001b[38;5;28;01mdef\u001b[39;00m \u001b[38;5;21m__gt__\u001b[39m(\u001b[38;5;28mself\u001b[39m, other):\n\u001b[0;32m---> 56\u001b[0m     \u001b[38;5;28;01mreturn\u001b[39;00m \u001b[38;5;28mself\u001b[39m\u001b[38;5;241m.\u001b[39m_cmp_method(other, operator\u001b[38;5;241m.\u001b[39mgt)\n",
      "File \u001b[0;32m~/anaconda3/lib/python3.12/site-packages/pandas/core/frame.py:7900\u001b[0m, in \u001b[0;36mDataFrame._cmp_method\u001b[0;34m(self, other, op)\u001b[0m\n\u001b[1;32m   7897\u001b[0m \u001b[38;5;28mself\u001b[39m, other \u001b[38;5;241m=\u001b[39m \u001b[38;5;28mself\u001b[39m\u001b[38;5;241m.\u001b[39m_align_for_op(other, axis, flex\u001b[38;5;241m=\u001b[39m\u001b[38;5;28;01mFalse\u001b[39;00m, level\u001b[38;5;241m=\u001b[39m\u001b[38;5;28;01mNone\u001b[39;00m)\n\u001b[1;32m   7899\u001b[0m \u001b[38;5;66;03m# See GH#4537 for discussion of scalar op behavior\u001b[39;00m\n\u001b[0;32m-> 7900\u001b[0m new_data \u001b[38;5;241m=\u001b[39m \u001b[38;5;28mself\u001b[39m\u001b[38;5;241m.\u001b[39m_dispatch_frame_op(other, op, axis\u001b[38;5;241m=\u001b[39maxis)\n\u001b[1;32m   7901\u001b[0m \u001b[38;5;28;01mreturn\u001b[39;00m \u001b[38;5;28mself\u001b[39m\u001b[38;5;241m.\u001b[39m_construct_result(new_data)\n",
      "File \u001b[0;32m~/anaconda3/lib/python3.12/site-packages/pandas/core/frame.py:7945\u001b[0m, in \u001b[0;36mDataFrame._dispatch_frame_op\u001b[0;34m(self, right, func, axis)\u001b[0m\n\u001b[1;32m   7942\u001b[0m right \u001b[38;5;241m=\u001b[39m lib\u001b[38;5;241m.\u001b[39mitem_from_zerodim(right)\n\u001b[1;32m   7943\u001b[0m \u001b[38;5;28;01mif\u001b[39;00m \u001b[38;5;129;01mnot\u001b[39;00m is_list_like(right):\n\u001b[1;32m   7944\u001b[0m     \u001b[38;5;66;03m# i.e. scalar, faster than checking np.ndim(right) == 0\u001b[39;00m\n\u001b[0;32m-> 7945\u001b[0m     bm \u001b[38;5;241m=\u001b[39m \u001b[38;5;28mself\u001b[39m\u001b[38;5;241m.\u001b[39m_mgr\u001b[38;5;241m.\u001b[39mapply(array_op, right\u001b[38;5;241m=\u001b[39mright)\n\u001b[1;32m   7946\u001b[0m     \u001b[38;5;28;01mreturn\u001b[39;00m \u001b[38;5;28mself\u001b[39m\u001b[38;5;241m.\u001b[39m_constructor_from_mgr(bm, axes\u001b[38;5;241m=\u001b[39mbm\u001b[38;5;241m.\u001b[39maxes)\n\u001b[1;32m   7948\u001b[0m \u001b[38;5;28;01melif\u001b[39;00m \u001b[38;5;28misinstance\u001b[39m(right, DataFrame):\n",
      "File \u001b[0;32m~/anaconda3/lib/python3.12/site-packages/pandas/core/internals/managers.py:361\u001b[0m, in \u001b[0;36mBaseBlockManager.apply\u001b[0;34m(self, f, align_keys, **kwargs)\u001b[0m\n\u001b[1;32m    358\u001b[0m             kwargs[k] \u001b[38;5;241m=\u001b[39m obj[b\u001b[38;5;241m.\u001b[39mmgr_locs\u001b[38;5;241m.\u001b[39mindexer]\n\u001b[1;32m    360\u001b[0m \u001b[38;5;28;01mif\u001b[39;00m \u001b[38;5;28mcallable\u001b[39m(f):\n\u001b[0;32m--> 361\u001b[0m     applied \u001b[38;5;241m=\u001b[39m b\u001b[38;5;241m.\u001b[39mapply(f, \u001b[38;5;241m*\u001b[39m\u001b[38;5;241m*\u001b[39mkwargs)\n\u001b[1;32m    362\u001b[0m \u001b[38;5;28;01melse\u001b[39;00m:\n\u001b[1;32m    363\u001b[0m     applied \u001b[38;5;241m=\u001b[39m \u001b[38;5;28mgetattr\u001b[39m(b, f)(\u001b[38;5;241m*\u001b[39m\u001b[38;5;241m*\u001b[39mkwargs)\n",
      "File \u001b[0;32m~/anaconda3/lib/python3.12/site-packages/pandas/core/internals/blocks.py:393\u001b[0m, in \u001b[0;36mBlock.apply\u001b[0;34m(self, func, **kwargs)\u001b[0m\n\u001b[1;32m    387\u001b[0m \u001b[38;5;129m@final\u001b[39m\n\u001b[1;32m    388\u001b[0m \u001b[38;5;28;01mdef\u001b[39;00m \u001b[38;5;21mapply\u001b[39m(\u001b[38;5;28mself\u001b[39m, func, \u001b[38;5;241m*\u001b[39m\u001b[38;5;241m*\u001b[39mkwargs) \u001b[38;5;241m-\u001b[39m\u001b[38;5;241m>\u001b[39m \u001b[38;5;28mlist\u001b[39m[Block]:\n\u001b[1;32m    389\u001b[0m \u001b[38;5;250m    \u001b[39m\u001b[38;5;124;03m\"\"\"\u001b[39;00m\n\u001b[1;32m    390\u001b[0m \u001b[38;5;124;03m    apply the function to my values; return a block if we are not\u001b[39;00m\n\u001b[1;32m    391\u001b[0m \u001b[38;5;124;03m    one\u001b[39;00m\n\u001b[1;32m    392\u001b[0m \u001b[38;5;124;03m    \"\"\"\u001b[39;00m\n\u001b[0;32m--> 393\u001b[0m     result \u001b[38;5;241m=\u001b[39m func(\u001b[38;5;28mself\u001b[39m\u001b[38;5;241m.\u001b[39mvalues, \u001b[38;5;241m*\u001b[39m\u001b[38;5;241m*\u001b[39mkwargs)\n\u001b[1;32m    395\u001b[0m     result \u001b[38;5;241m=\u001b[39m maybe_coerce_values(result)\n\u001b[1;32m    396\u001b[0m     \u001b[38;5;28;01mreturn\u001b[39;00m \u001b[38;5;28mself\u001b[39m\u001b[38;5;241m.\u001b[39m_split_op_result(result)\n",
      "File \u001b[0;32m~/anaconda3/lib/python3.12/site-packages/pandas/core/ops/array_ops.py:344\u001b[0m, in \u001b[0;36mcomparison_op\u001b[0;34m(left, right, op)\u001b[0m\n\u001b[1;32m    341\u001b[0m     \u001b[38;5;28;01mreturn\u001b[39;00m invalid_comparison(lvalues, rvalues, op)\n\u001b[1;32m    343\u001b[0m \u001b[38;5;28;01melif\u001b[39;00m lvalues\u001b[38;5;241m.\u001b[39mdtype \u001b[38;5;241m==\u001b[39m \u001b[38;5;28mobject\u001b[39m \u001b[38;5;129;01mor\u001b[39;00m \u001b[38;5;28misinstance\u001b[39m(rvalues, \u001b[38;5;28mstr\u001b[39m):\n\u001b[0;32m--> 344\u001b[0m     res_values \u001b[38;5;241m=\u001b[39m comp_method_OBJECT_ARRAY(op, lvalues, rvalues)\n\u001b[1;32m    346\u001b[0m \u001b[38;5;28;01melse\u001b[39;00m:\n\u001b[1;32m    347\u001b[0m     res_values \u001b[38;5;241m=\u001b[39m _na_arithmetic_op(lvalues, rvalues, op, is_cmp\u001b[38;5;241m=\u001b[39m\u001b[38;5;28;01mTrue\u001b[39;00m)\n",
      "File \u001b[0;32m~/anaconda3/lib/python3.12/site-packages/pandas/core/ops/array_ops.py:129\u001b[0m, in \u001b[0;36mcomp_method_OBJECT_ARRAY\u001b[0;34m(op, x, y)\u001b[0m\n\u001b[1;32m    127\u001b[0m     result \u001b[38;5;241m=\u001b[39m libops\u001b[38;5;241m.\u001b[39mvec_compare(x\u001b[38;5;241m.\u001b[39mravel(), y\u001b[38;5;241m.\u001b[39mravel(), op)\n\u001b[1;32m    128\u001b[0m \u001b[38;5;28;01melse\u001b[39;00m:\n\u001b[0;32m--> 129\u001b[0m     result \u001b[38;5;241m=\u001b[39m libops\u001b[38;5;241m.\u001b[39mscalar_compare(x\u001b[38;5;241m.\u001b[39mravel(), y, op)\n\u001b[1;32m    130\u001b[0m \u001b[38;5;28;01mreturn\u001b[39;00m result\u001b[38;5;241m.\u001b[39mreshape(x\u001b[38;5;241m.\u001b[39mshape)\n",
      "File \u001b[0;32mops.pyx:107\u001b[0m, in \u001b[0;36mpandas._libs.ops.scalar_compare\u001b[0;34m()\u001b[0m\n",
      "\u001b[0;31mTypeError\u001b[0m: '>' not supported between instances of 'str' and 'int'"
     ]
    }
   ],
   "source": [
    "df_se_ge.sort_values(by=[\"Genus\",\"Count\",\"Species\"], ascending=[False,False,False]).head(30)"
   ]
  },
  {
   "cell_type": "code",
   "execution_count": null,
   "id": "84f4e4cb-0dfc-4bc2-b7d9-98b0c0649f1c",
   "metadata": {},
   "outputs": [],
   "source": []
  }
 ],
 "metadata": {
  "kernelspec": {
   "display_name": "Python 3 (ipykernel)",
   "language": "python",
   "name": "python3"
  },
  "language_info": {
   "codemirror_mode": {
    "name": "ipython",
    "version": 3
   },
   "file_extension": ".py",
   "mimetype": "text/x-python",
   "name": "python",
   "nbconvert_exporter": "python",
   "pygments_lexer": "ipython3",
   "version": "3.12.7"
  }
 },
 "nbformat": 4,
 "nbformat_minor": 5
}
