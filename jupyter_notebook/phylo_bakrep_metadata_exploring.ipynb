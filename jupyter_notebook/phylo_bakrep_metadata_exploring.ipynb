{
 "cells": [
  {
   "cell_type": "code",
   "execution_count": 26,
   "id": "b79b7c12-b4e0-453f-996a-be3674ded5d0",
   "metadata": {},
   "outputs": [],
   "source": [
    "import pandas as pd\n",
    "import numpy as np"
   ]
  },
  {
   "cell_type": "code",
   "execution_count": 19,
   "id": "452e06a3-ecb6-454c-ad15-1bb7c0f0e744",
   "metadata": {},
   "outputs": [],
   "source": [
    "bakrep_metadata = pd.read_csv(\"data/bakrep-export_18112024.tsv\",sep='\\t', low_memory=False, index_col=\"#id\")"
   ]
  },
  {
   "cell_type": "code",
   "execution_count": 20,
   "id": "fdf5bd61-bcf9-489b-a8fd-6fa47b593b61",
   "metadata": {},
   "outputs": [
    {
     "data": {
      "text/plain": [
       "[('bakta.genome.genus', dtype('O')),\n",
       " ('bakta.genome.species', dtype('O')),\n",
       " ('bakta.genome.strain', dtype('O')),\n",
       " ('bakta.stats.no_sequences', dtype('float64')),\n",
       " ('bakta.stats.size', dtype('float64')),\n",
       " ('bakta.stats.gc', dtype('float64')),\n",
       " ('bakta.stats.n_ratio', dtype('float64')),\n",
       " ('bakta.stats.n50', dtype('float64')),\n",
       " ('bakta.stats.coding_ratio', dtype('float64')),\n",
       " ('gtdbtk.classification.domain', dtype('O')),\n",
       " ('gtdbtk.classification.phylum', dtype('O')),\n",
       " ('gtdbtk.classification.class', dtype('O')),\n",
       " ('gtdbtk.classification.order', dtype('O')),\n",
       " ('gtdbtk.classification.family', dtype('O')),\n",
       " ('gtdbtk.classification.genus', dtype('O')),\n",
       " ('gtdbtk.classification.species', dtype('O')),\n",
       " ('mlst.sequence_type', dtype('O')),\n",
       " ('checkm2.quality.completeness', dtype('float64')),\n",
       " ('checkm2.quality.contamination', dtype('float64')),\n",
       " ('metadata.accession', dtype('O')),\n",
       " ('metadata.collected_by', dtype('O')),\n",
       " ('metadata.collection_date', dtype('O')),\n",
       " ('metadata.country', dtype('O')),\n",
       " ('metadata.host', dtype('O')),\n",
       " ('metadata.host_sex', dtype('O')),\n",
       " ('metadata.host_status', dtype('O')),\n",
       " ('metadata.host_tax_id', dtype('float64')),\n",
       " ('metadata.instrument_model', dtype('O')),\n",
       " ('metadata.instrument_platform', dtype('O')),\n",
       " ('metadata.isolate', dtype('O')),\n",
       " ('metadata.isolation_source', dtype('O')),\n",
       " ('metadata.location', dtype('O')),\n",
       " ('metadata.project_name', dtype('O')),\n",
       " ('metadata.sample_alias', dtype('O')),\n",
       " ('metadata.secondary_sample_accession', dtype('O')),\n",
       " ('metadata.secondary_study_accession', dtype('O')),\n",
       " ('metadata.serotype', dtype('O')),\n",
       " ('metadata.serovar', dtype('O')),\n",
       " ('metadata.strain', dtype('O')),\n",
       " ('metadata.study_accession', dtype('O')),\n",
       " ('metadata.submission_accession', dtype('O'))]"
      ]
     },
     "execution_count": 20,
     "metadata": {},
     "output_type": "execute_result"
    }
   ],
   "source": [
    "[tup for tup in zip(bakrep_metadata.columns, bakrep_metadata.dtypes)]"
   ]
  },
  {
   "cell_type": "code",
   "execution_count": 21,
   "id": "d98354b9-b90b-45f9-90e9-08232cd3c7a1",
   "metadata": {},
   "outputs": [
    {
     "data": {
      "text/html": [
       "<div>\n",
       "<style scoped>\n",
       "    .dataframe tbody tr th:only-of-type {\n",
       "        vertical-align: middle;\n",
       "    }\n",
       "\n",
       "    .dataframe tbody tr th {\n",
       "        vertical-align: top;\n",
       "    }\n",
       "\n",
       "    .dataframe thead th {\n",
       "        text-align: right;\n",
       "    }\n",
       "</style>\n",
       "<table border=\"1\" class=\"dataframe\">\n",
       "  <thead>\n",
       "    <tr style=\"text-align: right;\">\n",
       "      <th></th>\n",
       "      <th>metadata.accession</th>\n",
       "    </tr>\n",
       "    <tr>\n",
       "      <th>#id</th>\n",
       "      <th></th>\n",
       "    </tr>\n",
       "  </thead>\n",
       "  <tbody>\n",
       "    <tr>\n",
       "      <th>SAMD00000344</th>\n",
       "      <td>SAMD00000344</td>\n",
       "    </tr>\n",
       "    <tr>\n",
       "      <th>SAMD00000345</th>\n",
       "      <td>SAMD00000345</td>\n",
       "    </tr>\n",
       "    <tr>\n",
       "      <th>SAMD00000355</th>\n",
       "      <td>SAMD00000355</td>\n",
       "    </tr>\n",
       "    <tr>\n",
       "      <th>SAMD00000550</th>\n",
       "      <td>SAMD00000550</td>\n",
       "    </tr>\n",
       "    <tr>\n",
       "      <th>SAMD00000552</th>\n",
       "      <td>SAMD00000552</td>\n",
       "    </tr>\n",
       "    <tr>\n",
       "      <th>...</th>\n",
       "      <td>...</td>\n",
       "    </tr>\n",
       "    <tr>\n",
       "      <th>SAMN10405967</th>\n",
       "      <td>SAMN10405967</td>\n",
       "    </tr>\n",
       "    <tr>\n",
       "      <th>SAMN10405968</th>\n",
       "      <td>SAMN10405968</td>\n",
       "    </tr>\n",
       "    <tr>\n",
       "      <th>SAMN10407504</th>\n",
       "      <td>SAMN10407504</td>\n",
       "    </tr>\n",
       "    <tr>\n",
       "      <th>SAMN10407505</th>\n",
       "      <td>SAMN10407505</td>\n",
       "    </tr>\n",
       "    <tr>\n",
       "      <th>SAMN10407507</th>\n",
       "      <td>SAMN10407507</td>\n",
       "    </tr>\n",
       "  </tbody>\n",
       "</table>\n",
       "<p>661402 rows × 1 columns</p>\n",
       "</div>"
      ],
      "text/plain": [
       "             metadata.accession\n",
       "#id                            \n",
       "SAMD00000344       SAMD00000344\n",
       "SAMD00000345       SAMD00000345\n",
       "SAMD00000355       SAMD00000355\n",
       "SAMD00000550       SAMD00000550\n",
       "SAMD00000552       SAMD00000552\n",
       "...                         ...\n",
       "SAMN10405967       SAMN10405967\n",
       "SAMN10405968       SAMN10405968\n",
       "SAMN10407504       SAMN10407504\n",
       "SAMN10407505       SAMN10407505\n",
       "SAMN10407507       SAMN10407507\n",
       "\n",
       "[661402 rows x 1 columns]"
      ]
     },
     "execution_count": 21,
     "metadata": {},
     "output_type": "execute_result"
    }
   ],
   "source": [
    "bakrep_metadata[[\"metadata.accession\"]]"
   ]
  },
  {
   "cell_type": "code",
   "execution_count": 22,
   "id": "572c915c-e725-48cb-a012-f3590e91303c",
   "metadata": {},
   "outputs": [],
   "source": [
    "est_card = pd.read_csv('/Users/ktruong/data/661k/est_card_661k.csv', header = None, names= ['id','card'], index_col= 'id' )"
   ]
  },
  {
   "cell_type": "code",
   "execution_count": 23,
   "id": "81d89d9e-495c-4db2-9905-139291628336",
   "metadata": {},
   "outputs": [
    {
     "data": {
      "text/html": [
       "<div>\n",
       "<style scoped>\n",
       "    .dataframe tbody tr th:only-of-type {\n",
       "        vertical-align: middle;\n",
       "    }\n",
       "\n",
       "    .dataframe tbody tr th {\n",
       "        vertical-align: top;\n",
       "    }\n",
       "\n",
       "    .dataframe thead th {\n",
       "        text-align: right;\n",
       "    }\n",
       "</style>\n",
       "<table border=\"1\" class=\"dataframe\">\n",
       "  <thead>\n",
       "    <tr style=\"text-align: right;\">\n",
       "      <th></th>\n",
       "      <th>card</th>\n",
       "    </tr>\n",
       "    <tr>\n",
       "      <th>id</th>\n",
       "      <th></th>\n",
       "    </tr>\n",
       "  </thead>\n",
       "  <tbody>\n",
       "    <tr>\n",
       "      <th>SAMN02844126</th>\n",
       "      <td>4722564.00</td>\n",
       "    </tr>\n",
       "    <tr>\n",
       "      <th>SAMN04558116</th>\n",
       "      <td>1589918.00</td>\n",
       "    </tr>\n",
       "    <tr>\n",
       "      <th>SAMEA2068521</th>\n",
       "      <td>6482382.50</td>\n",
       "    </tr>\n",
       "    <tr>\n",
       "      <th>SAMN09281158</th>\n",
       "      <td>2937214.75</td>\n",
       "    </tr>\n",
       "    <tr>\n",
       "      <th>SAMN09843229</th>\n",
       "      <td>4991481.50</td>\n",
       "    </tr>\n",
       "    <tr>\n",
       "      <th>...</th>\n",
       "      <td>...</td>\n",
       "    </tr>\n",
       "    <tr>\n",
       "      <th>SAMEA3481361</th>\n",
       "      <td>2161193.00</td>\n",
       "    </tr>\n",
       "    <tr>\n",
       "      <th>SAMN09650548</th>\n",
       "      <td>5065128.50</td>\n",
       "    </tr>\n",
       "    <tr>\n",
       "      <th>SAMN09463236</th>\n",
       "      <td>5239581.00</td>\n",
       "    </tr>\n",
       "    <tr>\n",
       "      <th>SAMEA2534426</th>\n",
       "      <td>4334674.00</td>\n",
       "    </tr>\n",
       "    <tr>\n",
       "      <th>SAMEA1016179</th>\n",
       "      <td>4344332.00</td>\n",
       "    </tr>\n",
       "  </tbody>\n",
       "</table>\n",
       "<p>661405 rows × 1 columns</p>\n",
       "</div>"
      ],
      "text/plain": [
       "                    card\n",
       "id                      \n",
       "SAMN02844126  4722564.00\n",
       "SAMN04558116  1589918.00\n",
       "SAMEA2068521  6482382.50\n",
       "SAMN09281158  2937214.75\n",
       "SAMN09843229  4991481.50\n",
       "...                  ...\n",
       "SAMEA3481361  2161193.00\n",
       "SAMN09650548  5065128.50\n",
       "SAMN09463236  5239581.00\n",
       "SAMEA2534426  4334674.00\n",
       "SAMEA1016179  4344332.00\n",
       "\n",
       "[661405 rows x 1 columns]"
      ]
     },
     "execution_count": 23,
     "metadata": {},
     "output_type": "execute_result"
    }
   ],
   "source": [
    "est_card"
   ]
  },
  {
   "cell_type": "code",
   "execution_count": 37,
   "id": "9545396f-12cd-43bb-904d-e602d50bd3e1",
   "metadata": {},
   "outputs": [
    {
     "data": {
      "text/plain": [
       "{'SAMD00080514', 'SAMD00080519', 'SAMD00080520'}"
      ]
     },
     "execution_count": 37,
     "metadata": {},
     "output_type": "execute_result"
    }
   ],
   "source": [
    "# missing 3 genomes\n",
    "set(est_card.index.values) - set(bakrep_metadata.index.values)"
   ]
  },
  {
   "cell_type": "code",
   "execution_count": 52,
   "id": "6f4d1f60-5e43-46c4-a028-fc60ee8eb2de",
   "metadata": {},
   "outputs": [],
   "source": [
    "species_groups =  bakrep_metadata.groupby(['gtdbtk.classification.species']).groups\n",
    "group_sizes = bakrep_metadata.groupby(['gtdbtk.classification.species']).size()"
   ]
  },
  {
   "cell_type": "code",
   "execution_count": 58,
   "id": "19fb0157-2b62-45c1-a9f5-03fe4698f5bc",
   "metadata": {},
   "outputs": [
    {
     "data": {
      "text/plain": [
       "gtdbtk.classification.species\n",
       "1-14-0-20-39-49 sp002787635         1\n",
       "Pantoea brenneri                    1\n",
       "Pantoea anthophila                  1\n",
       "Pantoea allii                       1\n",
       "Pannonibacter phragmitetus          1\n",
       "                                ...  \n",
       "Staphylococcus aureus           47997\n",
       "Mycobacterium tuberculosis      49020\n",
       "Streptococcus pneumoniae        51433\n",
       "Escherichia coli                89136\n",
       "Salmonella enterica            178585\n",
       "Length: 8207, dtype: int64"
      ]
     },
     "execution_count": 58,
     "metadata": {},
     "output_type": "execute_result"
    }
   ],
   "source": [
    "group_sizes.sort_values()"
   ]
  },
  {
   "cell_type": "code",
   "execution_count": 84,
   "id": "4f27d380-097d-4e28-9127-31394f085433",
   "metadata": {},
   "outputs": [
    {
     "data": {
      "text/plain": [
       "8067"
      ]
     },
     "execution_count": 84,
     "metadata": {},
     "output_type": "execute_result"
    }
   ],
   "source": [
    "group_sizes_small = group_sizes[group_sizes<100]\n",
    "len(group_sizes_small)"
   ]
  },
  {
   "cell_type": "code",
   "execution_count": 85,
   "id": "4b2c9c2f-1707-43c1-8748-494d9642b534",
   "metadata": {},
   "outputs": [
    {
     "data": {
      "text/plain": [
       "gtdbtk.classification.species\n",
       "1-14-0-20-39-49 sp002787635        1\n",
       "Paraburkholderia kururiensis       1\n",
       "Paraburkholderia dilworthii        1\n",
       "Paraburkholderia diazotrophica     1\n",
       "Paraburkholderia azotifigens       1\n",
       "                                  ..\n",
       "Ligilactobacillus salivarius      96\n",
       "Elizabethkingia anophelis         96\n",
       "Escherichia marmotae              97\n",
       "Deinococcus radiodurans           98\n",
       "Chlamydophila pecorum             98\n",
       "Length: 8067, dtype: int64"
      ]
     },
     "execution_count": 85,
     "metadata": {},
     "output_type": "execute_result"
    }
   ],
   "source": [
    "group_sizes_small.sort_values()"
   ]
  },
  {
   "cell_type": "code",
   "execution_count": 105,
   "id": "88c90226-7dee-4591-a70b-d4b306d9a5c5",
   "metadata": {},
   "outputs": [
    {
     "data": {
      "text/plain": [
       "gtdbtk.classification.species\n",
       "Enterobacter kobei              104\n",
       "Bacillus_A paranthracis         105\n",
       "Aeromonas veronii               106\n",
       "Moraxella catarrhalis           107\n",
       "Salmonella bongori              107\n",
       "                               ... \n",
       "Mycobacterium intracellulare    880\n",
       "Mycobacterium marinum           891\n",
       "Bacillus_A anthracis            893\n",
       "Neisseria lactamica             951\n",
       "Salmonella houtenae             972\n",
       "Length: 104, dtype: int64"
      ]
     },
     "execution_count": 105,
     "metadata": {},
     "output_type": "execute_result"
    }
   ],
   "source": [
    "group_sizes[(group_sizes>100) & (group_sizes<1000)].sort_values()"
   ]
  },
  {
   "cell_type": "code",
   "execution_count": 78,
   "id": "ec47145a-c191-4951-be91-01279968db89",
   "metadata": {},
   "outputs": [
    {
     "data": {
      "text/plain": [
       "gtdbtk.classification.species\n",
       "Salmonella enterica           178585\n",
       "Escherichia coli               89136\n",
       "Streptococcus pneumoniae       51433\n",
       "Mycobacterium tuberculosis     49020\n",
       "Staphylococcus aureus          47997\n",
       "Campylobacter_D jejuni         28336\n",
       "Neisseria meningitidis         17153\n",
       "Streptococcus pyogenes         16821\n",
       "Klebsiella pneumoniae          13637\n",
       "Clostridioides difficile       13579\n",
       "Listeria monocytogenes         12245\n",
       "Listeria monocytogenes_B       12244\n",
       "Streptococcus agalactiae       10359\n",
       "Neisseria gonorrhoeae           8904\n",
       "Campylobacter_D coli            8849\n",
       "Enterococcus_B faecium          8284\n",
       "Pseudomonas aeruginosa          6286\n",
       "Vibrio cholerae                 5562\n",
       "Acinetobacter baumannii         5124\n",
       "Mycobacterium abscessus         2689\n",
       "dtype: int64"
      ]
     },
     "execution_count": 78,
     "metadata": {},
     "output_type": "execute_result"
    }
   ],
   "source": [
    "group_sizes.sort_values(ascending=False).head(20)"
   ]
  },
  {
   "cell_type": "code",
   "execution_count": 79,
   "id": "19949ee3-a9f5-4e1a-9f94-39edc4226328",
   "metadata": {},
   "outputs": [],
   "source": [
    "species_groups_bakta =  bakrep_metadata.groupby(['bakta.genome.species']).groups\n",
    "group_sizes_bakta = bakrep_metadata.groupby(['bakta.genome.species']).size()"
   ]
  },
  {
   "cell_type": "code",
   "execution_count": 81,
   "id": "a7f82d49-959f-49e7-a218-101ffe240300",
   "metadata": {},
   "outputs": [
    {
     "data": {
      "text/plain": [
       "bakta.genome.species\n",
       "enterica         177020\n",
       "coli              81894\n",
       "pneumoniae        65831\n",
       "tuberculosis      48945\n",
       "aureus            48357\n",
       "jejuni            27491\n",
       "monocytogenes     24676\n",
       "meningitidis      16641\n",
       "pyogenes          16622\n",
       "difficile         13466\n",
       "agalactiae        10330\n",
       "gonorrhoeae        8797\n",
       "faecium            8429\n",
       "sp.                8216\n",
       "sonnei             7583\n",
       "aeruginosa         6168\n",
       "cholerae           5906\n",
       "baumannii          5127\n",
       "flexneri           4904\n",
       "abscessus          2694\n",
       "dtype: int64"
      ]
     },
     "execution_count": 81,
     "metadata": {},
     "output_type": "execute_result"
    }
   ],
   "source": [
    "group_sizes_bakta.sort_values(ascending=False).head(20)"
   ]
  },
  {
   "cell_type": "code",
   "execution_count": null,
   "id": "7aee7279-7215-4a27-94a9-da8dd83c3538",
   "metadata": {},
   "outputs": [],
   "source": []
  }
 ],
 "metadata": {
  "kernelspec": {
   "display_name": "Python 3 (ipykernel)",
   "language": "python",
   "name": "python3"
  },
  "language_info": {
   "codemirror_mode": {
    "name": "ipython",
    "version": 3
   },
   "file_extension": ".py",
   "mimetype": "text/x-python",
   "name": "python",
   "nbconvert_exporter": "python",
   "pygments_lexer": "ipython3",
   "version": "3.12.7"
  }
 },
 "nbformat": 4,
 "nbformat_minor": 5
}
