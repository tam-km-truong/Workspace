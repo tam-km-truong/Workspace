{
 "cells": [
  {
   "cell_type": "code",
   "execution_count": 1,
   "id": "6f852d88-e25e-4afb-b38b-0f0db3c8e86e",
   "metadata": {},
   "outputs": [],
   "source": [
    "import pandas as pd\n",
    "import matplotlib.pyplot as plt\n",
    "from matplotlib.lines import Line2D\n",
    "from sklearn import linear_model\n",
    "import numpy as np"
   ]
  },
  {
   "cell_type": "code",
   "execution_count": 2,
   "id": "522b7859-329d-4369-a754-d076d182da69",
   "metadata": {},
   "outputs": [],
   "source": [
    "compressed_size_batches = pd.read_csv(\"./data/csv/661k_compressed_size.csv\",header=None, sep = \"\\t\", \n",
    "                                      names = ['size_Mb','name'], index_col = 'name')\n",
    "compressed_size_batches.index = [i[2:-7] for i in compressed_size_batches.index]\n",
    "\n",
    "distinct_31mers_batches = pd.read_csv(\"./data/csv/distinct_31mers_661k.csv\", sep = \",\")\n",
    "distinct_31mers_batches.columns =[\"species\",\"distinct_31mers\"]\n",
    "distinct_31mers_batches = distinct_31mers_batches.set_index(\"species\")"
   ]
  },
  {
   "cell_type": "code",
   "execution_count": 3,
   "id": "66b3598b-10f3-49ac-8319-e800e09857b0",
   "metadata": {},
   "outputs": [],
   "source": [
    "merged_df = pd.merge(compressed_size_batches, distinct_31mers_batches, left_index=True, right_index=True)"
   ]
  },
  {
   "cell_type": "code",
   "execution_count": 4,
   "id": "c3123503-e2c1-4a95-9379-1c325a7bcbe5",
   "metadata": {},
   "outputs": [],
   "source": [
    "tuberculosis_df = merged_df.loc[merged_df.index.str.contains('mycobacterium_tuberculosis')]"
   ]
  },
  {
   "cell_type": "code",
   "execution_count": 5,
   "id": "98ed8ee5-90c2-427d-9a74-581e1b52c0a3",
   "metadata": {},
   "outputs": [
    {
     "data": {
      "text/html": [
       "<div>\n",
       "<style scoped>\n",
       "    .dataframe tbody tr th:only-of-type {\n",
       "        vertical-align: middle;\n",
       "    }\n",
       "\n",
       "    .dataframe tbody tr th {\n",
       "        vertical-align: top;\n",
       "    }\n",
       "\n",
       "    .dataframe thead th {\n",
       "        text-align: right;\n",
       "    }\n",
       "</style>\n",
       "<table border=\"1\" class=\"dataframe\">\n",
       "  <thead>\n",
       "    <tr style=\"text-align: right;\">\n",
       "      <th></th>\n",
       "      <th>size_Mb</th>\n",
       "      <th>distinct_31mers</th>\n",
       "    </tr>\n",
       "  </thead>\n",
       "  <tbody>\n",
       "    <tr>\n",
       "      <th>mycobacterium_tuberculosis__01</th>\n",
       "      <td>89</td>\n",
       "      <td>212738112.0</td>\n",
       "    </tr>\n",
       "    <tr>\n",
       "      <th>mycobacterium_tuberculosis__02</th>\n",
       "      <td>58</td>\n",
       "      <td>130080048.0</td>\n",
       "    </tr>\n",
       "    <tr>\n",
       "      <th>mycobacterium_tuberculosis__03</th>\n",
       "      <td>146</td>\n",
       "      <td>508730912.0</td>\n",
       "    </tr>\n",
       "    <tr>\n",
       "      <th>mycobacterium_tuberculosis__04</th>\n",
       "      <td>81</td>\n",
       "      <td>200019264.0</td>\n",
       "    </tr>\n",
       "    <tr>\n",
       "      <th>mycobacterium_tuberculosis__05</th>\n",
       "      <td>76</td>\n",
       "      <td>191255760.0</td>\n",
       "    </tr>\n",
       "    <tr>\n",
       "      <th>mycobacterium_tuberculosis__06</th>\n",
       "      <td>90</td>\n",
       "      <td>239203296.0</td>\n",
       "    </tr>\n",
       "    <tr>\n",
       "      <th>mycobacterium_tuberculosis__07</th>\n",
       "      <td>160</td>\n",
       "      <td>438626624.0</td>\n",
       "    </tr>\n",
       "    <tr>\n",
       "      <th>mycobacterium_tuberculosis__08</th>\n",
       "      <td>111</td>\n",
       "      <td>325284192.0</td>\n",
       "    </tr>\n",
       "    <tr>\n",
       "      <th>mycobacterium_tuberculosis__09</th>\n",
       "      <td>45</td>\n",
       "      <td>77325072.0</td>\n",
       "    </tr>\n",
       "    <tr>\n",
       "      <th>mycobacterium_tuberculosis__10</th>\n",
       "      <td>116</td>\n",
       "      <td>332991392.0</td>\n",
       "    </tr>\n",
       "    <tr>\n",
       "      <th>mycobacterium_tuberculosis__11</th>\n",
       "      <td>56</td>\n",
       "      <td>105624416.0</td>\n",
       "    </tr>\n",
       "    <tr>\n",
       "      <th>mycobacterium_tuberculosis__12</th>\n",
       "      <td>108</td>\n",
       "      <td>301108640.0</td>\n",
       "    </tr>\n",
       "    <tr>\n",
       "      <th>mycobacterium_tuberculosis__13</th>\n",
       "      <td>54</td>\n",
       "      <td>166303792.0</td>\n",
       "    </tr>\n",
       "  </tbody>\n",
       "</table>\n",
       "</div>"
      ],
      "text/plain": [
       "                                size_Mb  distinct_31mers\n",
       "mycobacterium_tuberculosis__01       89      212738112.0\n",
       "mycobacterium_tuberculosis__02       58      130080048.0\n",
       "mycobacterium_tuberculosis__03      146      508730912.0\n",
       "mycobacterium_tuberculosis__04       81      200019264.0\n",
       "mycobacterium_tuberculosis__05       76      191255760.0\n",
       "mycobacterium_tuberculosis__06       90      239203296.0\n",
       "mycobacterium_tuberculosis__07      160      438626624.0\n",
       "mycobacterium_tuberculosis__08      111      325284192.0\n",
       "mycobacterium_tuberculosis__09       45       77325072.0\n",
       "mycobacterium_tuberculosis__10      116      332991392.0\n",
       "mycobacterium_tuberculosis__11       56      105624416.0\n",
       "mycobacterium_tuberculosis__12      108      301108640.0\n",
       "mycobacterium_tuberculosis__13       54      166303792.0"
      ]
     },
     "execution_count": 5,
     "metadata": {},
     "output_type": "execute_result"
    }
   ],
   "source": [
    "tuberculosis_df"
   ]
  },
  {
   "cell_type": "code",
   "execution_count": 6,
   "id": "e8d6a231-7ae7-41be-8f55-6a2e268f7a9c",
   "metadata": {},
   "outputs": [],
   "source": [
    "x = tuberculosis_df['size_Mb'].values\n",
    "y = tuberculosis_df['distinct_31mers'].values"
   ]
  },
  {
   "cell_type": "code",
   "execution_count": 7,
   "id": "c0dd7d71-dd9f-4bd8-9f07-94a21221a1b6",
   "metadata": {},
   "outputs": [
    {
     "data": {
      "text/plain": [
       "(array([ 89,  58, 146,  81,  76,  90, 160, 111,  45, 116,  56, 108,  54]),\n",
       " array([2.12738112e+08, 1.30080048e+08, 5.08730912e+08, 2.00019264e+08,\n",
       "        1.91255760e+08, 2.39203296e+08, 4.38626624e+08, 3.25284192e+08,\n",
       "        7.73250720e+07, 3.32991392e+08, 1.05624416e+08, 3.01108640e+08,\n",
       "        1.66303792e+08]))"
      ]
     },
     "execution_count": 7,
     "metadata": {},
     "output_type": "execute_result"
    }
   ],
   "source": [
    "x,y"
   ]
  },
  {
   "cell_type": "code",
   "execution_count": 8,
   "id": "fc846978-8da5-40ce-87fd-695fea1346f2",
   "metadata": {},
   "outputs": [],
   "source": [
    "length = len(tuberculosis_df.index)\n",
    "x = x.reshape(length, 1)\n",
    "y = y.reshape(length, 1)"
   ]
  },
  {
   "cell_type": "code",
   "execution_count": 9,
   "id": "5245a86d-ca63-40dc-8bd7-1a78a4a9af5b",
   "metadata": {},
   "outputs": [
    {
     "data": {
      "image/png": "[encoded data removed]",
      "text/plain": [
       "<Figure size 640x480 with 1 Axes>"
      ]
     },
     "metadata": {},
     "output_type": "display_data"
    }
   ],
   "source": [
    "regr = linear_model.LinearRegression()\n",
    "regr.fit(x, y)\n",
    "\n",
    "# plot it as in the example at http://scikit-learn.org/\n",
    "plt.scatter(x, y,  color='black')\n",
    "plt.plot(x, regr.predict(x), color='blue', linewidth=3)\n",
    "plt.xticks(())\n",
    "plt.yticks(())\n",
    "plt.show()"
   ]
  },
  {
   "cell_type": "code",
   "execution_count": 10,
   "id": "0ec9f780-af52-49a5-871a-e21ef33b8a5e",
   "metadata": {},
   "outputs": [
    {
     "data": {
      "text/plain": [
       "array([[3495678.05852633]])"
      ]
     },
     "execution_count": 10,
     "metadata": {},
     "output_type": "execute_result"
    }
   ],
   "source": [
    "regr.coef_"
   ]
  },
  {
   "cell_type": "code",
   "execution_count": 11,
   "id": "668eebdf-1130-4445-98eb-7fe8d1f4179c",
   "metadata": {},
   "outputs": [
    {
     "data": {
      "text/plain": [
       "array([-71581951.51125664])"
      ]
     },
     "execution_count": 11,
     "metadata": {},
     "output_type": "execute_result"
    }
   ],
   "source": [
    "regr.intercept_"
   ]
  },
  {
   "cell_type": "code",
   "execution_count": 12,
   "id": "f4ab6d7c-330c-494a-a081-5a76b6234039",
   "metadata": {},
   "outputs": [],
   "source": [
    "def lin_regr_species(species):\n",
    "    df = merged_df.loc[merged_df.index.str.contains(species)]\n",
    "    x = df['size_Mb'].values\n",
    "    y = df['distinct_31mers'].values\n",
    "    length = len(df.index)\n",
    "    x = x.reshape(length, 1)\n",
    "    y = y.reshape(length, 1)\n",
    "    regr = linear_model.LinearRegression()\n",
    "    regr.fit(x, y)\n",
    "    plt.scatter(x, y,  color='black')\n",
    "    plt.plot(x, regr.predict(x), color='blue', linewidth=3)\n",
    "    plt.xticks(())\n",
    "    plt.yticks(())\n",
    "    plt.show()\n",
    "    return regr"
   ]
  },
  {
   "cell_type": "code",
   "execution_count": 13,
   "id": "971c6b25-2982-433c-8145-27c34764caa1",
   "metadata": {},
   "outputs": [
    {
     "data": {
      "image/png": "[encoded data removed]",
      "text/plain": [
       "<Figure size 640x480 with 1 Axes>"
      ]
     },
     "metadata": {},
     "output_type": "display_data"
    }
   ],
   "source": [
    "regr_ecoli =  lin_regr_species('escherichia_coli')"
   ]
  },
  {
   "cell_type": "code",
   "execution_count": 14,
   "id": "41d2d0fa-46ca-4653-847a-86aad54b4f43",
   "metadata": {},
   "outputs": [
    {
     "data": {
      "text/plain": [
       "(array([[761080.27259291]]), array([30904974.93481824]))"
      ]
     },
     "execution_count": 14,
     "metadata": {},
     "output_type": "execute_result"
    }
   ],
   "source": [
    "regr_ecoli.coef_, regr_ecoli.intercept_"
   ]
  },
  {
   "cell_type": "code",
   "execution_count": 17,
   "id": "a2dbd86a-ece9-4cdc-a0b7-7aa20dce7aa2",
   "metadata": {},
   "outputs": [
    {
     "data": {
      "text/plain": [
       "array([[1.52141444e+08]])"
      ]
     },
     "execution_count": 17,
     "metadata": {},
     "output_type": "execute_result"
    }
   ],
   "source": [
    "regr.predict(np.array([64]).reshape(1, -1))"
   ]
  },
  {
   "cell_type": "code",
   "execution_count": null,
   "id": "25189b07-abf1-49fa-869c-ecb7f74efaa3",
   "metadata": {},
   "outputs": [],
   "source": []
  }
 ],
 "metadata": {
  "kernelspec": {
   "display_name": "Python 3 (ipykernel)",
   "language": "python",
   "name": "python3"
  },
  "language_info": {
   "codemirror_mode": {
    "name": "ipython",
    "version": 3
   },
   "file_extension": ".py",
   "mimetype": "text/x-python",
   "name": "python",
   "nbconvert_exporter": "python",
   "pygments_lexer": "ipython3",
   "version": "3.12.7"
  }
 },
 "nbformat": 4,
 "nbformat_minor": 5
}
