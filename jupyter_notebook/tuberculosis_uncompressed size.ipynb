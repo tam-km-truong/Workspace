{
 "cells": [
  {
   "cell_type": "code",
   "execution_count": 16,
   "id": "f6535579-8d51-4008-a257-182b2f0fb14e",
   "metadata": {},
   "outputs": [],
   "source": [
    "import pandas as pd\n",
    "import matplotlib.pyplot as plt"
   ]
  },
  {
   "cell_type": "code",
   "execution_count": 8,
   "id": "7561e9ef-f817-43b1-a9a4-b97b376f788d",
   "metadata": {},
   "outputs": [],
   "source": [
    "data01 = pd.read_csv(\"./data/csv/file_size_uncompressed_tuber/mytuber01.csv\",header=None, sep = \"\\t\", names = ['size_Mb','name'], index_col = 'name')"
   ]
  },
  {
   "cell_type": "code",
   "execution_count": 9,
   "id": "1bc0dd0d-40a8-4c88-b0a0-7a06367fa262",
   "metadata": {},
   "outputs": [
    {
     "data": {
      "text/html": [
       "<div>\n",
       "<style scoped>\n",
       "    .dataframe tbody tr th:only-of-type {\n",
       "        vertical-align: middle;\n",
       "    }\n",
       "\n",
       "    .dataframe tbody tr th {\n",
       "        vertical-align: top;\n",
       "    }\n",
       "\n",
       "    .dataframe thead th {\n",
       "        text-align: right;\n",
       "    }\n",
       "</style>\n",
       "<table border=\"1\" class=\"dataframe\">\n",
       "  <thead>\n",
       "    <tr style=\"text-align: right;\">\n",
       "      <th></th>\n",
       "      <th>size_Mb</th>\n",
       "    </tr>\n",
       "    <tr>\n",
       "      <th>name</th>\n",
       "      <th></th>\n",
       "    </tr>\n",
       "  </thead>\n",
       "  <tbody>\n",
       "    <tr>\n",
       "      <th>./mycobacterium_tuberculosis__01/SAMD00008976.fa</th>\n",
       "      <td>7</td>\n",
       "    </tr>\n",
       "    <tr>\n",
       "      <th>./mycobacterium_tuberculosis__01/SAMD00015691.fa</th>\n",
       "      <td>7</td>\n",
       "    </tr>\n",
       "    <tr>\n",
       "      <th>./mycobacterium_tuberculosis__01/SAMD00016703.fa</th>\n",
       "      <td>5</td>\n",
       "    </tr>\n",
       "    <tr>\n",
       "      <th>./mycobacterium_tuberculosis__01/SAMD00017693.fa</th>\n",
       "      <td>5</td>\n",
       "    </tr>\n",
       "    <tr>\n",
       "      <th>./mycobacterium_tuberculosis__01/SAMD00017694.fa</th>\n",
       "      <td>5</td>\n",
       "    </tr>\n",
       "    <tr>\n",
       "      <th>...</th>\n",
       "      <td>...</td>\n",
       "    </tr>\n",
       "    <tr>\n",
       "      <th>./mycobacterium_tuberculosis__01/SAMEA1101622.fa</th>\n",
       "      <td>5</td>\n",
       "    </tr>\n",
       "    <tr>\n",
       "      <th>./mycobacterium_tuberculosis__01/SAMEA1101623.fa</th>\n",
       "      <td>5</td>\n",
       "    </tr>\n",
       "    <tr>\n",
       "      <th>./mycobacterium_tuberculosis__01/SAMEA1101624.fa</th>\n",
       "      <td>5</td>\n",
       "    </tr>\n",
       "    <tr>\n",
       "      <th>./mycobacterium_tuberculosis__01/SAMEA1101625.fa</th>\n",
       "      <td>5</td>\n",
       "    </tr>\n",
       "    <tr>\n",
       "      <th>total</th>\n",
       "      <td>17048</td>\n",
       "    </tr>\n",
       "  </tbody>\n",
       "</table>\n",
       "<p>4001 rows × 1 columns</p>\n",
       "</div>"
      ],
      "text/plain": [
       "                                                  size_Mb\n",
       "name                                                     \n",
       "./mycobacterium_tuberculosis__01/SAMD00008976.fa        7\n",
       "./mycobacterium_tuberculosis__01/SAMD00015691.fa        7\n",
       "./mycobacterium_tuberculosis__01/SAMD00016703.fa        5\n",
       "./mycobacterium_tuberculosis__01/SAMD00017693.fa        5\n",
       "./mycobacterium_tuberculosis__01/SAMD00017694.fa        5\n",
       "...                                                   ...\n",
       "./mycobacterium_tuberculosis__01/SAMEA1101622.fa        5\n",
       "./mycobacterium_tuberculosis__01/SAMEA1101623.fa        5\n",
       "./mycobacterium_tuberculosis__01/SAMEA1101624.fa        5\n",
       "./mycobacterium_tuberculosis__01/SAMEA1101625.fa        5\n",
       "total                                               17048\n",
       "\n",
       "[4001 rows x 1 columns]"
      ]
     },
     "execution_count": 9,
     "metadata": {},
     "output_type": "execute_result"
    }
   ],
   "source": [
    "data01"
   ]
  },
  {
   "cell_type": "code",
   "execution_count": 13,
   "id": "21a8285c-21fc-4ba3-902c-23d86c671aff",
   "metadata": {},
   "outputs": [],
   "source": [
    "data02 = pd.read_csv(\"./data/csv/file_size_uncompressed_tuber/mytuber02.csv\",header=None, sep = \"\\t\", names = ['size_Mb','name'], index_col = 'name')\n",
    "data03 = pd.read_csv(\"./data/csv/file_size_uncompressed_tuber/mytuber03.csv\",header=None, sep = \"\\t\", names = ['size_Mb','name'], index_col = 'name')"
   ]
  },
  {
   "cell_type": "code",
   "execution_count": 14,
   "id": "bc1d126e-2d2d-431e-8fb8-e10d9d70f44d",
   "metadata": {},
   "outputs": [],
   "source": [
    "data01 = data01.drop('total')\n",
    "data02 = data02.drop('total')\n",
    "data03 = data03.drop('total')"
   ]
  },
  {
   "cell_type": "code",
   "execution_count": 15,
   "id": "50345b17-8651-4d4c-8532-489821ba3aa5",
   "metadata": {},
   "outputs": [
    {
     "name": "stdout",
     "output_type": "stream",
     "text": [
      "[7 7 5 ... 5 5 5]\n"
     ]
    },
    {
     "data": {
      "image/png": "[encoded data removed]",
      "text/plain": [
       "<Figure size 1500x500 with 1 Axes>"
      ]
     },
     "metadata": {},
     "output_type": "display_data"
    }
   ],
   "source": [
    "fig, ax = plt.subplots(figsize=(15, 5))\n",
    "\n",
    "df_plot = data01.loc[:,'size_Mb']\n",
    "\n",
    "files = df_plot.index.values\n",
    "sizes = df_plot.values\n",
    "# bar_labels = ['red', 'blue', '_red', 'orange']\n",
    "# bar_colors = ['tab:red', 'tab:blue', 'tab:red', 'tab:orange']\n",
    "\n",
    "# ax.bar(files, counts, label=bar_labels, color=bar_colors)\n",
    "ax.bar(files, sizes)\n",
    "\n",
    "ax.set_ylabel('size in Mb')\n",
    "ax.set_title('genomes')\n",
    "# ax.legend(title='Fruit color')\n",
    "plt.xticks([])\n",
    "\n",
    "plt.show()"
   ]
  },
  {
   "cell_type": "code",
   "execution_count": null,
   "id": "005dc336-877d-4d25-8064-752cdc5d2daf",
   "metadata": {},
   "outputs": [],
   "source": []
  }
 ],
 "metadata": {
  "kernelspec": {
   "display_name": "Python 3 (ipykernel)",
   "language": "python",
   "name": "python3"
  },
  "language_info": {
   "codemirror_mode": {
    "name": "ipython",
    "version": 3
   },
   "file_extension": ".py",
   "mimetype": "text/x-python",
   "name": "python",
   "nbconvert_exporter": "python",
   "pygments_lexer": "ipython3",
   "version": "3.12.3"
  }
 },
 "nbformat": 4,
 "nbformat_minor": 5
}
