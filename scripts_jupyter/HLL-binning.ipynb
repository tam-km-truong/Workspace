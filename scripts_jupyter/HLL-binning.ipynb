{
 "cells": [
  {
   "cell_type": "code",
   "execution_count": 3,
   "id": "089a9a4b-6f60-4c11-89e2-9dd8dcee4930",
   "metadata": {},
   "outputs": [],
   "source": [
    "import os\n",
    "import glob"
   ]
  },
  {
   "cell_type": "code",
   "execution_count": 4,
   "id": "9d2c8ff3-d123-49b8-8618-9a1aea8dba14",
   "metadata": {},
   "outputs": [],
   "source": [
    "def process_bin_output(input_file, output_dir):\n",
    "    os.makedirs(output_dir, exist_ok=True)\n",
    "    \n",
    "    cardinalities = []\n",
    "    \n",
    "    with open(input_file, \"r\") as infile:\n",
    "        for line in infile:\n",
    "            parts = line.strip().split(\"; Cardinality: \")\n",
    "            if len(parts) != 2:\n",
    "                continue  # Skip malformed lines\n",
    "            \n",
    "            bin_part, cardinality = parts\n",
    "\n",
    "            bin_name, genomes = bin_part.split(\":\")\n",
    "            bin_index = bin_name.replace(\"Bin \", \"\").strip()\n",
    "            genome_list = genomes.split(\",\")\n",
    "            \n",
    "            # Write genomes to bin_{i}.txt\n",
    "            if int(bin_index) <10:\n",
    "                bin_file = os.path.join(output_dir, f\"bin_0{bin_index}.txt\")\n",
    "            else:\n",
    "                bin_file = os.path.join(output_dir, f\"bin_{bin_index}.txt\")\n",
    "            with open(bin_file, \"w\") as bf:\n",
    "                bf.write(\"\\n\".join(genome_list) + \"\\n\")\n",
    "            \n",
    "            # Collect cardinalities\n",
    "            cardinalities.append(cardinality)\n",
    "    \n",
    "    # Write bin cardinalities to bin_cardinalities.txt\n",
    "    cardinality_file = os.path.join(output_dir, \"bin_cardinalities.txt\")\n",
    "    with open(cardinality_file, \"w\") as cf:\n",
    "        cf.write(\"\\n\".join(cardinalities) + \"\\n\")"
   ]
  },
  {
   "cell_type": "code",
   "execution_count": 5,
   "id": "58775fba-b585-4dc9-bab9-e63c023c24a3",
   "metadata": {},
   "outputs": [],
   "source": [
    "# Example usage\n",
    "process_bin_output(\"data/aureus_mix_bin_assignment.txt\", \"output/aureus_mix_bin_assignment\")"
   ]
  },
  {
   "cell_type": "code",
   "execution_count": 6,
   "id": "aece092d-5186-4c82-af4b-5292a5134a8c",
   "metadata": {},
   "outputs": [],
   "source": [
    "def read_bins(bin_dir=\"output\"):\n",
    "    \"\"\"\n",
    "    Reads bin_{i}.txt files and bin_cardinalities.txt, returning lists of genome bins and cardinalities.\n",
    "\n",
    "    :param bin_dir: Directory containing the bin files.\n",
    "    :return: (bins, cardinalities) where:\n",
    "             - bins is a list of lists, each sublist contains genome names for a bin.\n",
    "             - cardinalities is a list of integers representing the cardinality of each bin.\n",
    "    \"\"\"\n",
    "    # Read bin files\n",
    "    bin_files = sorted(glob.glob(os.path.join(bin_dir, \"bin_*.txt\")))  # Sorted to maintain order\n",
    "    bins = []\n",
    "    \n",
    "    for bin_file in bin_files:\n",
    "        with open(bin_file, \"r\") as f:\n",
    "            genomes = [line.strip() for line in f if line.strip()]  # Remove empty lines\n",
    "            bins.append(genomes)\n",
    "\n",
    "    # Read cardinalities\n",
    "    cardinalities_file = os.path.join(bin_dir, \"bin_cardinalities.txt\")\n",
    "    cardinalities = []\n",
    "    \n",
    "    if os.path.exists(cardinalities_file):\n",
    "        with open(cardinalities_file, \"r\") as f:\n",
    "            cardinalities = [float(line.strip()) for line in f if line.strip()]  # Convert to int\n",
    "\n",
    "    return bins, cardinalities"
   ]
  },
  {
   "cell_type": "code",
   "execution_count": 9,
   "id": "5541d476-ecec-4006-8091-659bc6f85cd2",
   "metadata": {},
   "outputs": [
    {
     "name": "stdout",
     "output_type": "stream",
     "text": [
      "Bin 0: 1540 | Cardinality: 151588896.0\n",
      "Bin 1: 5020 | Cardinality: 151534752.0\n",
      "Bin 2: 1799 | Cardinality: 152965504.0\n",
      "Bin 3: 591 | Cardinality: 152247184.0\n",
      "Bin 4: 707 | Cardinality: 151801312.0\n",
      "Bin 5: 1988 | Cardinality: 151624704.0\n",
      "Bin 6: 4253 | Cardinality: 152337232.0\n",
      "Bin 7: 1662 | Cardinality: 152706448.0\n",
      "Bin 8: 3008 | Cardinality: 151595696.0\n",
      "Bin 9: 1855 | Cardinality: 152921712.0\n",
      "Bin 10: 2441 | Cardinality: 152568368.0\n",
      "Bin 11: 1392 | Cardinality: 152412864.0\n",
      "Bin 12: 905 | Cardinality: 151594976.0\n",
      "Bin 13: 1013 | Cardinality: 151538176.0\n",
      "Bin 14: 2376 | Cardinality: 152152176.0\n",
      "Bin 15: 1354 | Cardinality: 152428608.0\n",
      "Bin 16: 6124 | Cardinality: 152475280.0\n",
      "Bin 17: 825 | Cardinality: 151807520.0\n",
      "Bin 18: 674 | Cardinality: 151536608.0\n",
      "Bin 19: 4874 | Cardinality: 152212768.0\n",
      "Bin 20: 1369 | Cardinality: 151471920.0\n",
      "Bin 21: 1924 | Cardinality: 151480144.0\n",
      "Bin 22: 752 | Cardinality: 151911824.0\n",
      "Bin 23: 281 | Cardinality: 40132584.0\n"
     ]
    }
   ],
   "source": [
    "bins, cardinalities = read_bins('output/tuber_bin_packing_64MB//')\n",
    "# Print results for verification\n",
    "for i, (genomes, card) in enumerate(zip(bins, cardinalities)):\n",
    "    print(f\"Bin {i}: {len(genomes)} | Cardinality: {card}\")"
   ]
  },
  {
   "cell_type": "code",
   "execution_count": 8,
   "id": "f9cd2bd9-61fb-4be3-bcfa-2bf1093b8ee3",
   "metadata": {
    "scrolled": true
   },
   "outputs": [
    {
     "name": "stdout",
     "output_type": "stream",
     "text": [
      "Bin 0: 554 | Cardinality: 19902882.0\n",
      "Bin 1: 718 | Cardinality: 19847156.0\n",
      "Bin 2: 938 | Cardinality: 19993654.0\n",
      "Bin 3: 605 | Cardinality: 19867898.0\n",
      "Bin 4: 596 | Cardinality: 19844642.0\n",
      "Bin 5: 1179 | Cardinality: 19805504.0\n",
      "Bin 6: 158 | Cardinality: 19869412.0\n",
      "Bin 7: 252 | Cardinality: 12429884.0\n"
     ]
    }
   ],
   "source": [
    "bins, cardinalities = read_bins('output/aureus_mix_bin_assignment/')\n",
    "# Print results for verification\n",
    "for i, (genomes, card) in enumerate(zip(bins, cardinalities)):\n",
    "    print(f\"Bin {i}: {len(genomes)} | Cardinality: {card}\")"
   ]
  },
  {
   "cell_type": "code",
   "execution_count": 10,
   "id": "e788cce0-d331-4760-b335-dbed1f2ba5ac",
   "metadata": {},
   "outputs": [],
   "source": [
    "nb_of_genomes = []\n",
    "cards = []\n",
    "for i, (genomes, card) in enumerate(zip(bins, cardinalities)):\n",
    "    nb_of_genomes = nb_of_genomes + [len(genomes)]\n",
    "    cards = cards + [card]"
   ]
  },
  {
   "cell_type": "code",
   "execution_count": 11,
   "id": "2a7e1375-12e1-4c01-a785-e530cce08ea6",
   "metadata": {
    "scrolled": true
   },
   "outputs": [
    {
     "data": {
      "text/plain": [
       "[1540,\n",
       " 5020,\n",
       " 1799,\n",
       " 591,\n",
       " 707,\n",
       " 1988,\n",
       " 4253,\n",
       " 1662,\n",
       " 3008,\n",
       " 1855,\n",
       " 2441,\n",
       " 1392,\n",
       " 905,\n",
       " 1013,\n",
       " 2376,\n",
       " 1354,\n",
       " 6124,\n",
       " 825,\n",
       " 674,\n",
       " 4874,\n",
       " 1369,\n",
       " 1924,\n",
       " 752,\n",
       " 281]"
      ]
     },
     "execution_count": 11,
     "metadata": {},
     "output_type": "execute_result"
    }
   ],
   "source": [
    "nb_of_genomes"
   ]
  },
  {
   "cell_type": "code",
   "execution_count": 12,
   "id": "4a28c89a-d2d1-4096-8609-318afccf0685",
   "metadata": {
    "scrolled": true
   },
   "outputs": [
    {
     "data": {
      "text/plain": [
       "[151588896.0,\n",
       " 151534752.0,\n",
       " 152965504.0,\n",
       " 152247184.0,\n",
       " 151801312.0,\n",
       " 151624704.0,\n",
       " 152337232.0,\n",
       " 152706448.0,\n",
       " 151595696.0,\n",
       " 152921712.0,\n",
       " 152568368.0,\n",
       " 152412864.0,\n",
       " 151594976.0,\n",
       " 151538176.0,\n",
       " 152152176.0,\n",
       " 152428608.0,\n",
       " 152475280.0,\n",
       " 151807520.0,\n",
       " 151536608.0,\n",
       " 152212768.0,\n",
       " 151471920.0,\n",
       " 151480144.0,\n",
       " 151911824.0,\n",
       " 40132584.0]"
      ]
     },
     "execution_count": 12,
     "metadata": {},
     "output_type": "execute_result"
    }
   ],
   "source": [
    "cards"
   ]
  },
  {
   "cell_type": "code",
   "execution_count": 13,
   "id": "23989e7d-af91-404f-a388-632f4d08323d",
   "metadata": {},
   "outputs": [],
   "source": [
    "import matplotlib.pyplot as plt\n",
    "from matplotlib.lines import Line2D"
   ]
  },
  {
   "cell_type": "code",
   "execution_count": 37,
   "id": "323165fa-4a42-4288-8d7f-8701f412c869",
   "metadata": {},
   "outputs": [
    {
     "data": {
      "image/png": "[encoded data removed]",
      "text/plain": [
       "<Figure size 700x500 with 1 Axes>"
      ]
     },
     "metadata": {},
     "output_type": "display_data"
    }
   ],
   "source": [
    "fig, ax = plt.subplots(figsize=(7, 5))\n",
    "\n",
    "df_plot = cards\n",
    "\n",
    "files = range(1,len(cards)+1)\n",
    "sizes = cards\n",
    "# bar_labels = ['red', 'blue', '_red', 'orange']\n",
    "# bar_colors = ['tab:red', 'tab:blue', 'tab:red', 'tab:orange']\n",
    "\n",
    "# ax.bar(files, counts, label=bar_labels, color=bar_colors)\n",
    "ax.bar(files, sizes,width=1, ec = 'white', color = 'teal')\n",
    "\n",
    "# ax.set_ylabel('Distinct kmers count',fontsize = 18)\n",
    "# ax.set_title('Distinct kmers count of HLL-Binning batches',fontsize = 18)\n",
    "# ax.set_xlabel('Batches',fontsize = 18)\n",
    "plt.xticks(range(1,len(cards)+1))\n",
    "plt.ylim(0, 210000000)\n",
    "\n",
    "plt.show()"
   ]
  },
  {
   "cell_type": "code",
   "execution_count": 45,
   "id": "b5c38b38-7577-4ea3-a1da-3dcffcd9685d",
   "metadata": {},
   "outputs": [
    {
     "data": {
      "image/png": "[encoded data removed]",
      "text/plain": [
       "<Figure size 700x500 with 1 Axes>"
      ]
     },
     "metadata": {},
     "output_type": "display_data"
    }
   ],
   "source": [
    "fig, ax = plt.subplots(figsize=(7, 5))\n",
    "\n",
    "df_plot = nb_of_genomes\n",
    "\n",
    "files = range(1,len(nb_of_genomes)+1)\n",
    "sizes = nb_of_genomes\n",
    "# bar_labels = ['red', 'blue', '_red', 'orange']\n",
    "# bar_colors = ['tab:red', 'tab:blue', 'tab:red', 'tab:orange']\n",
    "\n",
    "# ax.bar(files, counts, label=bar_labels, color=bar_colors)\n",
    "ax.bar(files, sizes,width=1, ec = 'white',color = 'teal')\n",
    "\n",
    "# ax.set_ylabel('Nb of genome',fontsize = 18)\n",
    "# ax.set_title('Nb of genome per batch of HLL-Binning batches',fontsize = 18)\n",
    "# ax.set_xlabel('Batches',fontsize = 18)\n",
    "plt.xticks(range(1,len(cards)+1))\n",
    "plt.ylim(0, 6500)\n",
    "plt.show()"
   ]
  },
  {
   "cell_type": "code",
   "execution_count": 39,
   "id": "e3807869-99a4-41e2-9978-cd6a86ebed62",
   "metadata": {},
   "outputs": [],
   "source": [
    "bins1, cardinalities1 = read_bins('output/tuber_bin_packing_balancing/')"
   ]
  },
  {
   "cell_type": "code",
   "execution_count": 40,
   "id": "16ed0e4f-8bd3-4bd1-b78a-d408eaaffd41",
   "metadata": {},
   "outputs": [],
   "source": [
    "nb_of_genomes_1 = []\n",
    "cards_1 = []\n",
    "for i, (genomes, card) in enumerate(zip(bins1, cardinalities1)):\n",
    "    nb_of_genomes_1 = nb_of_genomes_1 + [len(genomes)]\n",
    "    cards_1 = cards_1 + [card]"
   ]
  },
  {
   "cell_type": "code",
   "execution_count": 41,
   "id": "9961e331-94e3-482d-88db-385512fc3ffc",
   "metadata": {},
   "outputs": [
    {
     "data": {
      "text/plain": [
       "([1419,\n",
       "  1806,\n",
       "  2038,\n",
       "  2712,\n",
       "  2786,\n",
       "  1684,\n",
       "  1849,\n",
       "  1665,\n",
       "  1257,\n",
       "  1754,\n",
       "  1645,\n",
       "  2084,\n",
       "  2042,\n",
       "  2885,\n",
       "  2276,\n",
       "  2374,\n",
       "  1754,\n",
       "  2500,\n",
       "  1931,\n",
       "  2768,\n",
       "  1644,\n",
       "  1577,\n",
       "  2144,\n",
       "  2133],\n",
       " [193044928.0,\n",
       "  192820592.0,\n",
       "  193994400.0,\n",
       "  193509264.0,\n",
       "  196133616.0,\n",
       "  193758128.0,\n",
       "  194696432.0,\n",
       "  198745728.0,\n",
       "  194960560.0,\n",
       "  196639936.0,\n",
       "  195454272.0,\n",
       "  193425712.0,\n",
       "  196804304.0,\n",
       "  195380128.0,\n",
       "  195052592.0,\n",
       "  193790032.0,\n",
       "  193006352.0,\n",
       "  199818736.0,\n",
       "  194467344.0,\n",
       "  194789152.0,\n",
       "  193536656.0,\n",
       "  197270304.0,\n",
       "  194652752.0,\n",
       "  194806320.0])"
      ]
     },
     "execution_count": 41,
     "metadata": {},
     "output_type": "execute_result"
    }
   ],
   "source": [
    "nb_of_genomes_1,cards_1"
   ]
  },
  {
   "cell_type": "code",
   "execution_count": 47,
   "id": "b5354124-7282-4476-b1f9-c4421d44700b",
   "metadata": {},
   "outputs": [
    {
     "data": {
      "image/png": "[encoded data removed]",
      "text/plain": [
       "<Figure size 700x500 with 1 Axes>"
      ]
     },
     "metadata": {},
     "output_type": "display_data"
    }
   ],
   "source": [
    "fig, ax = plt.subplots(figsize=(7, 5))\n",
    "\n",
    "df_plot = nb_of_genomes_1\n",
    "\n",
    "files = range(1,len(nb_of_genomes_1)+1)\n",
    "sizes = nb_of_genomes_1\n",
    "# bar_labels = ['red', 'blue', '_red', 'orange']\n",
    "# bar_colors = ['tab:red', 'tab:blue', 'tab:red', 'tab:orange']\n",
    "\n",
    "# ax.bar(files, counts, label=bar_labels, color=bar_colors)\n",
    "ax.bar(files, sizes,width=1, ec = 'white',color='green')\n",
    "\n",
    "# ax.set_ylabel('Nb of genome',fontsize = 18)\n",
    "# ax.set_title('Nb of genome per batch of HLL-Balancing',fontsize = 18)\n",
    "# ax.set_xlabel('Batches',fontsize = 18)\n",
    "plt.xticks(range(1,len(cards)+1))\n",
    "plt.ylim(0, 6500)\n",
    "plt.show()"
   ]
  },
  {
   "cell_type": "code",
   "execution_count": 48,
   "id": "3fc4389d-d634-4da5-a419-b03d885571f0",
   "metadata": {},
   "outputs": [
    {
     "data": {
      "image/png": "[encoded data removed]",
      "text/plain": [
       "<Figure size 700x500 with 1 Axes>"
      ]
     },
     "metadata": {},
     "output_type": "display_data"
    }
   ],
   "source": [
    "fig, ax = plt.subplots(figsize=(7, 5))\n",
    "\n",
    "df_plot = cards_1\n",
    "\n",
    "files = range(1,len(cards_1)+1)\n",
    "sizes = cards_1\n",
    "# bar_labels = ['red', 'blue', '_red', 'orange']\n",
    "# bar_colors = ['tab:red', 'tab:blue', 'tab:red', 'tab:orange']\n",
    "\n",
    "# ax.bar(files, counts, label=bar_labels, color=bar_colors)\n",
    "ax.bar(files, sizes,width=1, ec = 'white',color = 'green')\n",
    "\n",
    "# ax.set_ylabel('Distinct kmers count',fontsize = 18)\n",
    "# ax.set_title('Distinct kmers count of HLL-Balancing',fontsize = 18)\n",
    "# ax.set_xlabel('Batches',fontsize = 18)\n",
    "plt.xticks(range(1,len(cards)+1))\n",
    "plt.ylim(0, 210000000)\n",
    "plt.show()"
   ]
  },
  {
   "cell_type": "code",
   "execution_count": null,
   "id": "b4605afe-ae6a-4170-aa48-865727f8ec5a",
   "metadata": {},
   "outputs": [],
   "source": []
  },
  {
   "cell_type": "code",
   "execution_count": 119,
   "id": "eb0c08a1-b00f-46d8-9093-c1ca0885c10f",
   "metadata": {},
   "outputs": [],
   "source": [
    "import os\n",
    "import argparse\n",
    "import glob"
   ]
  },
  {
   "cell_type": "code",
   "execution_count": 131,
   "id": "752e98cf-c1da-4a5b-9c06-2581c9149c3c",
   "metadata": {},
   "outputs": [],
   "source": [
    "def find_genome_paths(genome_folder):\n",
    "    \"\"\"\n",
    "    Recursively finds all genome files (*.fa) and maps genome names to their full paths.\n",
    "\n",
    "    :param genome_folder: Root folder where genome files are stored.\n",
    "    :return: Dictionary {genome_name: full_path}\n",
    "    \"\"\"\n",
    "    genome_paths = {}\n",
    "    for file_path in glob.iglob(os.path.join(genome_folder, \"**\", \"*.fa\"), recursive=True):\n",
    "        genome_name = os.path.basename(file_path).split(\".\")[0]  # Extract genome name\n",
    "        genome_paths[genome_name] = os.path.abspath(file_path)  # Store full path\n",
    "    return genome_paths\n",
    "\n",
    "def process_text_files(input_folder, genome_folder, output_folder):\n",
    "    \"\"\"\n",
    "    Reads input text files, replaces genome names with their full paths, and saves results.\n",
    "\n",
    "    :param input_folder: Folder containing text files with genome names.\n",
    "    :param genome_folder: Folder containing genome files (*.fa) in subdirectories.\n",
    "    :param output_folder: Folder where output text files will be saved.\n",
    "    \"\"\"\n",
    "    os.makedirs(output_folder, exist_ok=True)\n",
    "\n",
    "    # Get genome paths mapping\n",
    "    genome_paths = find_genome_paths(genome_folder)\n",
    "\n",
    "    # Process each text file\n",
    "    for text_file in glob.glob(os.path.join(input_folder, \"*.txt\")):\n",
    "        output_file = os.path.join(output_folder, os.path.basename(text_file))\n",
    "\n",
    "        with open(text_file, \"r\") as infile, open(output_file, \"w\") as outfile:\n",
    "            for line in infile:\n",
    "                genome_name = line.strip()\n",
    "                genome_path = genome_paths.get(genome_name, \"NOT_FOUND\")\n",
    "                outfile.write(f\"{genome_path}\\n\")\n",
    "\n",
    "        print(f\"Processed: {text_file} -> {output_file}\")"
   ]
  },
  {
   "cell_type": "code",
   "execution_count": 132,
   "id": "95ced98c-f8db-4e67-890a-f9060e406e1a",
   "metadata": {
    "scrolled": true
   },
   "outputs": [
    {
     "name": "stdout",
     "output_type": "stream",
     "text": [
      "Processed: output/tuber_bin_packing_64MB/bin_16.txt -> data/tuber_hll-binning_full_genome_path/bin_16.txt\n",
      "Processed: output/tuber_bin_packing_64MB/bin_02.txt -> data/tuber_hll-binning_full_genome_path/bin_02.txt\n",
      "Processed: output/tuber_bin_packing_64MB/bin_03.txt -> data/tuber_hll-binning_full_genome_path/bin_03.txt\n",
      "Processed: output/tuber_bin_packing_64MB/bin_17.txt -> data/tuber_hll-binning_full_genome_path/bin_17.txt\n",
      "Processed: output/tuber_bin_packing_64MB/bin_01.txt -> data/tuber_hll-binning_full_genome_path/bin_01.txt\n",
      "Processed: output/tuber_bin_packing_64MB/bin_15.txt -> data/tuber_hll-binning_full_genome_path/bin_15.txt\n",
      "Processed: output/tuber_bin_packing_64MB/bin_14.txt -> data/tuber_hll-binning_full_genome_path/bin_14.txt\n",
      "Processed: output/tuber_bin_packing_64MB/bin_00.txt -> data/tuber_hll-binning_full_genome_path/bin_00.txt\n",
      "Processed: output/tuber_bin_packing_64MB/bin_04.txt -> data/tuber_hll-binning_full_genome_path/bin_04.txt\n",
      "Processed: output/tuber_bin_packing_64MB/bin_10.txt -> data/tuber_hll-binning_full_genome_path/bin_10.txt\n",
      "Processed: output/tuber_bin_packing_64MB/bin_11.txt -> data/tuber_hll-binning_full_genome_path/bin_11.txt\n",
      "Processed: output/tuber_bin_packing_64MB/bin_05.txt -> data/tuber_hll-binning_full_genome_path/bin_05.txt\n",
      "Processed: output/tuber_bin_packing_64MB/bin_13.txt -> data/tuber_hll-binning_full_genome_path/bin_13.txt\n",
      "Processed: output/tuber_bin_packing_64MB/bin_07.txt -> data/tuber_hll-binning_full_genome_path/bin_07.txt\n",
      "Processed: output/tuber_bin_packing_64MB/bin_06.txt -> data/tuber_hll-binning_full_genome_path/bin_06.txt\n",
      "Processed: output/tuber_bin_packing_64MB/bin_12.txt -> data/tuber_hll-binning_full_genome_path/bin_12.txt\n",
      "Processed: output/tuber_bin_packing_64MB/bin_cardinalities.txt -> data/tuber_hll-binning_full_genome_path/bin_cardinalities.txt\n",
      "Processed: output/tuber_bin_packing_64MB/bin_23.txt -> data/tuber_hll-binning_full_genome_path/bin_23.txt\n",
      "Processed: output/tuber_bin_packing_64MB/bin_22.txt -> data/tuber_hll-binning_full_genome_path/bin_22.txt\n",
      "Processed: output/tuber_bin_packing_64MB/bin_08.txt -> data/tuber_hll-binning_full_genome_path/bin_08.txt\n",
      "Processed: output/tuber_bin_packing_64MB/bin_20.txt -> data/tuber_hll-binning_full_genome_path/bin_20.txt\n",
      "Processed: output/tuber_bin_packing_64MB/bin_21.txt -> data/tuber_hll-binning_full_genome_path/bin_21.txt\n",
      "Processed: output/tuber_bin_packing_64MB/bin_09.txt -> data/tuber_hll-binning_full_genome_path/bin_09.txt\n",
      "Processed: output/tuber_bin_packing_64MB/bin_19.txt -> data/tuber_hll-binning_full_genome_path/bin_19.txt\n",
      "Processed: output/tuber_bin_packing_64MB/bin_18.txt -> data/tuber_hll-binning_full_genome_path/bin_18.txt\n"
     ]
    }
   ],
   "source": [
    "process_text_files('output/tuber_bin_packing_64MB/', '/Users/ktruong/data/661k/mycobacterium_tuberculosis/', 'data/tuber_hll-binning_full_genome_path')"
   ]
  },
  {
   "cell_type": "code",
   "execution_count": 133,
   "id": "324c446b-c830-4065-ba08-f61911520e29",
   "metadata": {
    "scrolled": true
   },
   "outputs": [
    {
     "name": "stdout",
     "output_type": "stream",
     "text": [
      "Processed: output/tuber_bin_packing_balancing/bin_16.txt -> data/tuber_hll-balancing_full_genome_path/bin_16.txt\n",
      "Processed: output/tuber_bin_packing_balancing/bin_02.txt -> data/tuber_hll-balancing_full_genome_path/bin_02.txt\n",
      "Processed: output/tuber_bin_packing_balancing/bin_03.txt -> data/tuber_hll-balancing_full_genome_path/bin_03.txt\n",
      "Processed: output/tuber_bin_packing_balancing/bin_17.txt -> data/tuber_hll-balancing_full_genome_path/bin_17.txt\n",
      "Processed: output/tuber_bin_packing_balancing/bin_01.txt -> data/tuber_hll-balancing_full_genome_path/bin_01.txt\n",
      "Processed: output/tuber_bin_packing_balancing/bin_15.txt -> data/tuber_hll-balancing_full_genome_path/bin_15.txt\n",
      "Processed: output/tuber_bin_packing_balancing/bin_14.txt -> data/tuber_hll-balancing_full_genome_path/bin_14.txt\n",
      "Processed: output/tuber_bin_packing_balancing/bin_00.txt -> data/tuber_hll-balancing_full_genome_path/bin_00.txt\n",
      "Processed: output/tuber_bin_packing_balancing/bin_04.txt -> data/tuber_hll-balancing_full_genome_path/bin_04.txt\n",
      "Processed: output/tuber_bin_packing_balancing/bin_10.txt -> data/tuber_hll-balancing_full_genome_path/bin_10.txt\n",
      "Processed: output/tuber_bin_packing_balancing/bin_11.txt -> data/tuber_hll-balancing_full_genome_path/bin_11.txt\n",
      "Processed: output/tuber_bin_packing_balancing/bin_05.txt -> data/tuber_hll-balancing_full_genome_path/bin_05.txt\n",
      "Processed: output/tuber_bin_packing_balancing/bin_13.txt -> data/tuber_hll-balancing_full_genome_path/bin_13.txt\n",
      "Processed: output/tuber_bin_packing_balancing/bin_07.txt -> data/tuber_hll-balancing_full_genome_path/bin_07.txt\n",
      "Processed: output/tuber_bin_packing_balancing/bin_06.txt -> data/tuber_hll-balancing_full_genome_path/bin_06.txt\n",
      "Processed: output/tuber_bin_packing_balancing/bin_12.txt -> data/tuber_hll-balancing_full_genome_path/bin_12.txt\n",
      "Processed: output/tuber_bin_packing_balancing/bin_cardinalities.txt -> data/tuber_hll-balancing_full_genome_path/bin_cardinalities.txt\n",
      "Processed: output/tuber_bin_packing_balancing/bin_23.txt -> data/tuber_hll-balancing_full_genome_path/bin_23.txt\n",
      "Processed: output/tuber_bin_packing_balancing/bin_22.txt -> data/tuber_hll-balancing_full_genome_path/bin_22.txt\n",
      "Processed: output/tuber_bin_packing_balancing/bin_08.txt -> data/tuber_hll-balancing_full_genome_path/bin_08.txt\n",
      "Processed: output/tuber_bin_packing_balancing/bin_20.txt -> data/tuber_hll-balancing_full_genome_path/bin_20.txt\n",
      "Processed: output/tuber_bin_packing_balancing/bin_21.txt -> data/tuber_hll-balancing_full_genome_path/bin_21.txt\n",
      "Processed: output/tuber_bin_packing_balancing/bin_09.txt -> data/tuber_hll-balancing_full_genome_path/bin_09.txt\n",
      "Processed: output/tuber_bin_packing_balancing/bin_19.txt -> data/tuber_hll-balancing_full_genome_path/bin_19.txt\n",
      "Processed: output/tuber_bin_packing_balancing/bin_18.txt -> data/tuber_hll-balancing_full_genome_path/bin_18.txt\n"
     ]
    }
   ],
   "source": [
    "process_text_files('output/tuber_bin_packing_balancing//', '/Users/ktruong/data/661k/mycobacterium_tuberculosis/', 'data/tuber_hll-balancing_full_genome_path')"
   ]
  },
  {
   "cell_type": "code",
   "execution_count": 134,
   "id": "5f002dcb-e974-4593-a528-feae99dbe88f",
   "metadata": {
    "scrolled": true
   },
   "outputs": [
    {
     "name": "stdout",
     "output_type": "stream",
     "text": [
      "Processed: /Users/ktruong/data/phylo_order/phylo_order_2.txt -> /Users/ktruong/data/tuber_hll-binning_full_genome_path_final/phylo_order_2.txt\n",
      "Processed: /Users/ktruong/data/phylo_order/phylo_order_3.txt -> /Users/ktruong/data/tuber_hll-binning_full_genome_path_final/phylo_order_3.txt\n",
      "Processed: /Users/ktruong/data/phylo_order/phylo_order_1.txt -> /Users/ktruong/data/tuber_hll-binning_full_genome_path_final/phylo_order_1.txt\n",
      "Processed: /Users/ktruong/data/phylo_order/phylo_order_4.txt -> /Users/ktruong/data/tuber_hll-binning_full_genome_path_final/phylo_order_4.txt\n",
      "Processed: /Users/ktruong/data/phylo_order/phylo_order_5.txt -> /Users/ktruong/data/tuber_hll-binning_full_genome_path_final/phylo_order_5.txt\n",
      "Processed: /Users/ktruong/data/phylo_order/phylo_order_7.txt -> /Users/ktruong/data/tuber_hll-binning_full_genome_path_final/phylo_order_7.txt\n",
      "Processed: /Users/ktruong/data/phylo_order/phylo_order_6.txt -> /Users/ktruong/data/tuber_hll-binning_full_genome_path_final/phylo_order_6.txt\n",
      "Processed: /Users/ktruong/data/phylo_order/phylo_order_22.txt -> /Users/ktruong/data/tuber_hll-binning_full_genome_path_final/phylo_order_22.txt\n",
      "Processed: /Users/ktruong/data/phylo_order/phylo_order_23.txt -> /Users/ktruong/data/tuber_hll-binning_full_genome_path_final/phylo_order_23.txt\n",
      "Processed: /Users/ktruong/data/phylo_order/phylo_order_21.txt -> /Users/ktruong/data/tuber_hll-binning_full_genome_path_final/phylo_order_21.txt\n",
      "Processed: /Users/ktruong/data/phylo_order/phylo_order_20.txt -> /Users/ktruong/data/tuber_hll-binning_full_genome_path_final/phylo_order_20.txt\n",
      "Processed: /Users/ktruong/data/phylo_order/phylo_order_18.txt -> /Users/ktruong/data/tuber_hll-binning_full_genome_path_final/phylo_order_18.txt\n",
      "Processed: /Users/ktruong/data/phylo_order/phylo_order_24.txt -> /Users/ktruong/data/tuber_hll-binning_full_genome_path_final/phylo_order_24.txt\n",
      "Processed: /Users/ktruong/data/phylo_order/phylo_order_19.txt -> /Users/ktruong/data/tuber_hll-binning_full_genome_path_final/phylo_order_19.txt\n",
      "Processed: /Users/ktruong/data/phylo_order/phylo_order_17.txt -> /Users/ktruong/data/tuber_hll-binning_full_genome_path_final/phylo_order_17.txt\n",
      "Processed: /Users/ktruong/data/phylo_order/phylo_order_16.txt -> /Users/ktruong/data/tuber_hll-binning_full_genome_path_final/phylo_order_16.txt\n",
      "Processed: /Users/ktruong/data/phylo_order/phylo_order_14.txt -> /Users/ktruong/data/tuber_hll-binning_full_genome_path_final/phylo_order_14.txt\n",
      "Processed: /Users/ktruong/data/phylo_order/phylo_order_15.txt -> /Users/ktruong/data/tuber_hll-binning_full_genome_path_final/phylo_order_15.txt\n",
      "Processed: /Users/ktruong/data/phylo_order/phylo_order_11.txt -> /Users/ktruong/data/tuber_hll-binning_full_genome_path_final/phylo_order_11.txt\n",
      "Processed: /Users/ktruong/data/phylo_order/phylo_order_10.txt -> /Users/ktruong/data/tuber_hll-binning_full_genome_path_final/phylo_order_10.txt\n",
      "Processed: /Users/ktruong/data/phylo_order/phylo_order_12.txt -> /Users/ktruong/data/tuber_hll-binning_full_genome_path_final/phylo_order_12.txt\n",
      "Processed: /Users/ktruong/data/phylo_order/phylo_order_13.txt -> /Users/ktruong/data/tuber_hll-binning_full_genome_path_final/phylo_order_13.txt\n",
      "Processed: /Users/ktruong/data/phylo_order/phylo_order_8.txt -> /Users/ktruong/data/tuber_hll-binning_full_genome_path_final/phylo_order_8.txt\n",
      "Processed: /Users/ktruong/data/phylo_order/phylo_order_9.txt -> /Users/ktruong/data/tuber_hll-binning_full_genome_path_final/phylo_order_9.txt\n"
     ]
    }
   ],
   "source": [
    "process_text_files('/Users/ktruong/data/phylo_order/', '/Users/ktruong/data/661k/mycobacterium_tuberculosis/', \n",
    "                   '/Users/ktruong/data/tuber_hll-binning_full_genome_path_final')"
   ]
  },
  {
   "cell_type": "code",
   "execution_count": 135,
   "id": "8b719469-0d14-474b-a52d-0b25279c80df",
   "metadata": {},
   "outputs": [
    {
     "name": "stdout",
     "output_type": "stream",
     "text": [
      "Processed: /Users/ktruong/data/phylo_order_balancing/phylo_order_2.txt -> /Users/ktruong/data/tuber_hll-balancing_full_genome_path_final/phylo_order_2.txt\n",
      "Processed: /Users/ktruong/data/phylo_order_balancing/phylo_order_3.txt -> /Users/ktruong/data/tuber_hll-balancing_full_genome_path_final/phylo_order_3.txt\n",
      "Processed: /Users/ktruong/data/phylo_order_balancing/phylo_order_1.txt -> /Users/ktruong/data/tuber_hll-balancing_full_genome_path_final/phylo_order_1.txt\n",
      "Processed: /Users/ktruong/data/phylo_order_balancing/phylo_order_4.txt -> /Users/ktruong/data/tuber_hll-balancing_full_genome_path_final/phylo_order_4.txt\n",
      "Processed: /Users/ktruong/data/phylo_order_balancing/phylo_order_5.txt -> /Users/ktruong/data/tuber_hll-balancing_full_genome_path_final/phylo_order_5.txt\n",
      "Processed: /Users/ktruong/data/phylo_order_balancing/phylo_order_7.txt -> /Users/ktruong/data/tuber_hll-balancing_full_genome_path_final/phylo_order_7.txt\n",
      "Processed: /Users/ktruong/data/phylo_order_balancing/phylo_order_6.txt -> /Users/ktruong/data/tuber_hll-balancing_full_genome_path_final/phylo_order_6.txt\n",
      "Processed: /Users/ktruong/data/phylo_order_balancing/phylo_order_22.txt -> /Users/ktruong/data/tuber_hll-balancing_full_genome_path_final/phylo_order_22.txt\n",
      "Processed: /Users/ktruong/data/phylo_order_balancing/phylo_order_23.txt -> /Users/ktruong/data/tuber_hll-balancing_full_genome_path_final/phylo_order_23.txt\n",
      "Processed: /Users/ktruong/data/phylo_order_balancing/phylo_order_21.txt -> /Users/ktruong/data/tuber_hll-balancing_full_genome_path_final/phylo_order_21.txt\n",
      "Processed: /Users/ktruong/data/phylo_order_balancing/phylo_order_20.txt -> /Users/ktruong/data/tuber_hll-balancing_full_genome_path_final/phylo_order_20.txt\n",
      "Processed: /Users/ktruong/data/phylo_order_balancing/phylo_order_18.txt -> /Users/ktruong/data/tuber_hll-balancing_full_genome_path_final/phylo_order_18.txt\n",
      "Processed: /Users/ktruong/data/phylo_order_balancing/phylo_order_24.txt -> /Users/ktruong/data/tuber_hll-balancing_full_genome_path_final/phylo_order_24.txt\n",
      "Processed: /Users/ktruong/data/phylo_order_balancing/phylo_order_19.txt -> /Users/ktruong/data/tuber_hll-balancing_full_genome_path_final/phylo_order_19.txt\n",
      "Processed: /Users/ktruong/data/phylo_order_balancing/phylo_order_17.txt -> /Users/ktruong/data/tuber_hll-balancing_full_genome_path_final/phylo_order_17.txt\n",
      "Processed: /Users/ktruong/data/phylo_order_balancing/phylo_order_16.txt -> /Users/ktruong/data/tuber_hll-balancing_full_genome_path_final/phylo_order_16.txt\n",
      "Processed: /Users/ktruong/data/phylo_order_balancing/phylo_order_14.txt -> /Users/ktruong/data/tuber_hll-balancing_full_genome_path_final/phylo_order_14.txt\n",
      "Processed: /Users/ktruong/data/phylo_order_balancing/phylo_order_15.txt -> /Users/ktruong/data/tuber_hll-balancing_full_genome_path_final/phylo_order_15.txt\n",
      "Processed: /Users/ktruong/data/phylo_order_balancing/phylo_order_11.txt -> /Users/ktruong/data/tuber_hll-balancing_full_genome_path_final/phylo_order_11.txt\n",
      "Processed: /Users/ktruong/data/phylo_order_balancing/phylo_order_10.txt -> /Users/ktruong/data/tuber_hll-balancing_full_genome_path_final/phylo_order_10.txt\n",
      "Processed: /Users/ktruong/data/phylo_order_balancing/phylo_order_12.txt -> /Users/ktruong/data/tuber_hll-balancing_full_genome_path_final/phylo_order_12.txt\n",
      "Processed: /Users/ktruong/data/phylo_order_balancing/phylo_order_13.txt -> /Users/ktruong/data/tuber_hll-balancing_full_genome_path_final/phylo_order_13.txt\n",
      "Processed: /Users/ktruong/data/phylo_order_balancing/phylo_order_8.txt -> /Users/ktruong/data/tuber_hll-balancing_full_genome_path_final/phylo_order_8.txt\n",
      "Processed: /Users/ktruong/data/phylo_order_balancing/phylo_order_9.txt -> /Users/ktruong/data/tuber_hll-balancing_full_genome_path_final/phylo_order_9.txt\n"
     ]
    }
   ],
   "source": [
    "process_text_files('/Users/ktruong/data/phylo_order_balancing/', '/Users/ktruong/data/661k/mycobacterium_tuberculosis/', \n",
    "                   '/Users/ktruong/data/tuber_hll-balancing_full_genome_path_final')"
   ]
  },
  {
   "cell_type": "code",
   "execution_count": 157,
   "id": "ad735a68-37f8-4e72-bba5-a317f7025791",
   "metadata": {},
   "outputs": [],
   "source": [
    "import pandas as pd\n",
    "import numpy as np"
   ]
  },
  {
   "cell_type": "code",
   "execution_count": 158,
   "id": "89757028-69a7-4ca0-a2b4-7ea15420b74b",
   "metadata": {},
   "outputs": [],
   "source": [
    "compressed_size_binning = pd.read_csv(\"./data/csv/files_size_tuber_binning.csv\",header=None, sep = \"\\t\", names = ['size_Mb','name'], index_col = 'name')\n",
    "compressed_size_binning = compressed_size_binning.drop('total')"
   ]
  },
  {
   "cell_type": "code",
   "execution_count": null,
   "id": "d8822d2d-ea5f-4e44-ba49-37c83d155a69",
   "metadata": {},
   "outputs": [],
   "source": []
  }
 ],
 "metadata": {
  "kernelspec": {
   "display_name": "Python 3 (ipykernel)",
   "language": "python",
   "name": "python3"
  },
  "language_info": {
   "codemirror_mode": {
    "name": "ipython",
    "version": 3
   },
   "file_extension": ".py",
   "mimetype": "text/x-python",
   "name": "python",
   "nbconvert_exporter": "python",
   "pygments_lexer": "ipython3",
   "version": "3.12.7"
  }
 },
 "nbformat": 4,
 "nbformat_minor": 5
}
