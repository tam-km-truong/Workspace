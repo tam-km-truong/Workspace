{
 "cells": [
  {
   "cell_type": "code",
   "execution_count": 35,
   "id": "6961b3f8-d367-4ad0-a434-64b34e763cd8",
   "metadata": {},
   "outputs": [],
   "source": [
    "import pandas as pd"
   ]
  },
  {
   "cell_type": "code",
   "execution_count": 36,
   "id": "8295173c-ab09-41a5-8dd4-0e5514b60f2e",
   "metadata": {},
   "outputs": [],
   "source": [
    "def get_data_txt_file(path):\n",
    "    file = open(path,'r')\n",
    "    content = file.readlines()\n",
    "    dict_data = {}\n",
    "    for i in range(1,len(content),3):\n",
    "        _,path = content[i].split()\n",
    "        _,card = content[i+2].split()\n",
    "        dict_data[path[37:]] = card\n",
    "    return dict_data"
   ]
  },
  {
   "cell_type": "code",
   "execution_count": 39,
   "id": "7c3e13b6-f4d7-4cbc-b69d-f2097a274aa9",
   "metadata": {},
   "outputs": [],
   "source": [
    "card_batches_661k = get_data_txt_file(\"./data/661k_card.txt\")"
   ]
  },
  {
   "cell_type": "code",
   "execution_count": 47,
   "id": "35490ebf-a217-4490-8162-47f0ff7c741e",
   "metadata": {},
   "outputs": [],
   "source": [
    "df = pd.DataFrame.from_dict(card_batches_661k,orient=\"index\",columns =['distinct_31mers'])"
   ]
  },
  {
   "cell_type": "code",
   "execution_count": 48,
   "id": "963e5a60-7970-40c1-a55f-9fbab914de92",
   "metadata": {},
   "outputs": [
    {
     "data": {
      "text/html": [
       "<div>\n",
       "<style scoped>\n",
       "    .dataframe tbody tr th:only-of-type {\n",
       "        vertical-align: middle;\n",
       "    }\n",
       "\n",
       "    .dataframe tbody tr th {\n",
       "        vertical-align: top;\n",
       "    }\n",
       "\n",
       "    .dataframe thead th {\n",
       "        text-align: right;\n",
       "    }\n",
       "</style>\n",
       "<table border=\"1\" class=\"dataframe\">\n",
       "  <thead>\n",
       "    <tr style=\"text-align: right;\">\n",
       "      <th></th>\n",
       "      <th>distinct_31mers</th>\n",
       "    </tr>\n",
       "  </thead>\n",
       "  <tbody>\n",
       "    <tr>\n",
       "      <th>acinetobacter_baumannii__01</th>\n",
       "      <td>159301616.00000000</td>\n",
       "    </tr>\n",
       "    <tr>\n",
       "      <th>acinetobacter_baumannii__02</th>\n",
       "      <td>86562328.00000000</td>\n",
       "    </tr>\n",
       "    <tr>\n",
       "      <th>acinetobacter_nosocomialis__01</th>\n",
       "      <td>43828308.00000000</td>\n",
       "    </tr>\n",
       "    <tr>\n",
       "      <th>acinetobacter_pittii__01</th>\n",
       "      <td>70363192.00000000</td>\n",
       "    </tr>\n",
       "    <tr>\n",
       "      <th>actinobacillus_pleuropneumoniae__01</th>\n",
       "      <td>15841974.00000000</td>\n",
       "    </tr>\n",
       "    <tr>\n",
       "      <th>...</th>\n",
       "      <td>...</td>\n",
       "    </tr>\n",
       "    <tr>\n",
       "      <th>wolbachia_endosymbiont_of_drosophila_melanogaster__01</th>\n",
       "      <td>1312887.25000000</td>\n",
       "    </tr>\n",
       "    <tr>\n",
       "      <th>xanthomonas_oryzae__01</th>\n",
       "      <td>47483496.00000000</td>\n",
       "    </tr>\n",
       "    <tr>\n",
       "      <th>yersinia_enterocolitica__01</th>\n",
       "      <td>104364472.00000000</td>\n",
       "    </tr>\n",
       "    <tr>\n",
       "      <th>yersinia_pestis__01</th>\n",
       "      <td>8080753.50000000</td>\n",
       "    </tr>\n",
       "    <tr>\n",
       "      <th>yersinia_pseudotuberculosis__01</th>\n",
       "      <td>22969436.00000000</td>\n",
       "    </tr>\n",
       "  </tbody>\n",
       "</table>\n",
       "<p>305 rows × 1 columns</p>\n",
       "</div>"
      ],
      "text/plain": [
       "                                                       distinct_31mers\n",
       "acinetobacter_baumannii__01                         159301616.00000000\n",
       "acinetobacter_baumannii__02                          86562328.00000000\n",
       "acinetobacter_nosocomialis__01                       43828308.00000000\n",
       "acinetobacter_pittii__01                             70363192.00000000\n",
       "actinobacillus_pleuropneumoniae__01                  15841974.00000000\n",
       "...                                                                ...\n",
       "wolbachia_endosymbiont_of_drosophila_melanogast...    1312887.25000000\n",
       "xanthomonas_oryzae__01                               47483496.00000000\n",
       "yersinia_enterocolitica__01                         104364472.00000000\n",
       "yersinia_pestis__01                                   8080753.50000000\n",
       "yersinia_pseudotuberculosis__01                      22969436.00000000\n",
       "\n",
       "[305 rows x 1 columns]"
      ]
     },
     "execution_count": 48,
     "metadata": {},
     "output_type": "execute_result"
    }
   ],
   "source": [
    "df"
   ]
  },
  {
   "cell_type": "code",
   "execution_count": null,
   "id": "d4e97f20-8722-4682-81ea-41a1dfa6ea82",
   "metadata": {},
   "outputs": [],
   "source": []
  }
 ],
 "metadata": {
  "kernelspec": {
   "display_name": "Python 3 (ipykernel)",
   "language": "python",
   "name": "python3"
  },
  "language_info": {
   "codemirror_mode": {
    "name": "ipython",
    "version": 3
   },
   "file_extension": ".py",
   "mimetype": "text/x-python",
   "name": "python",
   "nbconvert_exporter": "python",
   "pygments_lexer": "ipython3",
   "version": "3.12.7"
  }
 },
 "nbformat": 4,
 "nbformat_minor": 5
}
